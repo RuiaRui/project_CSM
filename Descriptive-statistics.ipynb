{
 "cells": [
  {
   "cell_type": "markdown",
   "id": "e8d1b740",
   "metadata": {},
   "source": [
    "## Header"
   ]
  },
  {
   "cell_type": "markdown",
   "id": "fff973b8",
   "metadata": {},
   "source": [
    "Author : Amina Matt    \n",
    "Date created : 25.04.2022  \n",
    "Date last mofidied : 25.04.2022  \n",
    "Description :  Pre-processing of publicly available [Ukraine Conflict Twitter Dataset](https://www.kaggle.com/datasets/bwandowando/ukraine-russian-crisis-twitter-dataset-1-2-m-rows) and descriptive statistics"
   ]
  },
  {
   "cell_type": "code",
   "execution_count": 3,
   "id": "3c17aef8",
   "metadata": {},
   "outputs": [
    {
     "name": "stderr",
     "output_type": "stream",
     "text": [
      "[nltk_data] Downloading package stopwords to\n",
      "[nltk_data]     /Users/aminamatt/nltk_data...\n",
      "[nltk_data]   Package stopwords is already up-to-date!\n"
     ]
    }
   ],
   "source": [
    "### Libraries\n",
    "\n",
    "import pandas as pd\n",
    "import numpy as np\n",
    "#import twitter\n",
    "import zipfile\n",
    "\n",
    "import nltk #natural language processing library\n",
    "nltk.download('stopwords') #common english words to ignore \n",
    "from bs4 import BeautifulSoup #extraction from HTML and XML files\n",
    "from collections import Counter #dictionary subclass for counting hashable objects\n",
    "\n",
    "import swifter # for optimization of apply\n",
    "\n",
    "# Parameters\n",
    "pd.set_option('display.max_colwidth', 255)"
   ]
  },
  {
   "cell_type": "markdown",
   "id": "219ab101",
   "metadata": {},
   "source": [
    "### Path "
   ]
  },
  {
   "cell_type": "code",
   "execution_count": 5,
   "id": "7533caa1",
   "metadata": {},
   "outputs": [],
   "source": [
    "# The dataset is store on an external volume\n",
    "PATH = '/Volumes/PECHE/archive_Twitter_Conflict.zip'\n",
    "gen_data_PATH = '/Users/aminamatt/Dropbox/Cours-printemps-2022/Computational-Social-Media/Project/Generated_Data/'"
   ]
  },
  {
   "cell_type": "code",
   "execution_count": 28,
   "id": "a3322eef",
   "metadata": {},
   "outputs": [],
   "source": [
    "#pd.read_csv('/Volumes/PECHE/archive_Twitter_Conflict.zip',compression='zip')"
   ]
  },
  {
   "cell_type": "markdown",
   "id": "e2499259",
   "metadata": {
    "tags": []
   },
   "source": [
    "## 1. Loading  data"
   ]
  },
  {
   "cell_type": "code",
   "execution_count": 30,
   "id": "5a06c01a",
   "metadata": {
    "tags": []
   },
   "outputs": [],
   "source": [
    "# # # # the zip archive contains multiple files\n",
    "\n",
    "# all_zips = zipfile.ZipFile(PATH)\n",
    "\n",
    "# #df = pd.concat(\n",
    "# #    [pd.read_csv(zipfile.ZipFile(PATH).open(i)) for i in zipfile.ZipFile(PATH).namelist()],\n",
    "# #    ignore_index=True\n",
    "# #)\n",
    "# df = pd.DataFrame()\n",
    "# index = 0 \n",
    "# for i in all_zips.namelist():\n",
    "#     if (i.startswith('Ukraine')):\n",
    "#         print(f'Loading {i}')\n",
    "#         tmp = pd.read_csv(zipfile.ZipFile(PATH).open(i),compression='gzip')  # add options index_col=0,encoding='utf-8', quoting=csv.QUOTE_ALL\n",
    "#         df = pd.concat([df,tmp])\n",
    "# #     index = index+1\n",
    "# #     if (index==22) :\n",
    "# #         break"
   ]
  },
  {
   "cell_type": "markdown",
   "id": "3581ec47",
   "metadata": {},
   "source": [
    "### DATA"
   ]
  },
  {
   "cell_type": "code",
   "execution_count": 32,
   "id": "aaabeb5d",
   "metadata": {},
   "outputs": [],
   "source": [
    "# pickle the df to be used later \n",
    "#df.to_pickle(gen_data_PATH+'FEB_MARCH_dataframe.pkl')\n",
    "#df_feb_march_ref = pd.read_pickle(gen_data_PATH+'feb_march_en_refugee_raw.pkl')\n",
    "df_april= pd.read_pickle(gen_data_PATH+'Generated_Dataapril_dataframe.pkl.pkl')"
   ]
  },
  {
   "cell_type": "code",
   "execution_count": 33,
   "id": "2408d725",
   "metadata": {},
   "outputs": [
    {
     "data": {
      "text/plain": [
       "38310"
      ]
     },
     "execution_count": 33,
     "metadata": {},
     "output_type": "execute_result"
    }
   ],
   "source": [
    "len(df_feb_march_ref)"
   ]
  },
  {
   "cell_type": "markdown",
   "id": "00fd2f28-c670-4a30-930b-560562411567",
   "metadata": {},
   "source": [
    "## Catenate February, March and April months"
   ]
  },
  {
   "cell_type": "code",
   "execution_count": 7,
   "id": "e0f13d02",
   "metadata": {
    "tags": []
   },
   "outputs": [],
   "source": [
    "df_feb_march = pd.read_pickle(gen_data_PATH+'FEB_MARCH_dataframe.pkl')\n",
    "#df_april = pd.read_pickle(gen_data_PATH+'Generated_Dataapril_dataframe.pkl')#"
   ]
  },
  {
   "cell_type": "code",
   "execution_count": 8,
   "id": "84b9a097-294f-40ee-8f41-26c63a83648f",
   "metadata": {},
   "outputs": [],
   "source": [
    "#df = pd.concat([df_feb_march,df_april])"
   ]
  },
  {
   "cell_type": "markdown",
   "id": "608d23fb",
   "metadata": {},
   "source": [
    "### Rows"
   ]
  },
  {
   "cell_type": "code",
   "execution_count": 9,
   "id": "c3d875df",
   "metadata": {},
   "outputs": [
    {
     "name": "stdout",
     "output_type": "stream",
     "text": [
      "The FEBRUARY MARCH dataset contains 15583279 tweet entries\n"
     ]
    }
   ],
   "source": [
    "print(f'The FEBRUARY MARCH dataset contains {len(df_feb_march)} tweet entries')"
   ]
  },
  {
   "cell_type": "code",
   "execution_count": 11,
   "id": "4358f05f",
   "metadata": {},
   "outputs": [],
   "source": [
    "df = df_feb_march"
   ]
  },
  {
   "cell_type": "code",
   "execution_count": null,
   "id": "04403e10",
   "metadata": {},
   "outputs": [],
   "source": [
    "print(f'The APRIL dataset contains {len(df_april)} tweet entries')"
   ]
  },
  {
   "cell_type": "markdown",
   "id": "64e2e326",
   "metadata": {},
   "source": [
    "### Columns"
   ]
  },
  {
   "cell_type": "code",
   "execution_count": 12,
   "id": "fe4b10d3",
   "metadata": {},
   "outputs": [
    {
     "data": {
      "text/plain": [
       "['Unnamed: 0',\n",
       " 'userid',\n",
       " 'username',\n",
       " 'acctdesc',\n",
       " 'location',\n",
       " 'following',\n",
       " 'followers',\n",
       " 'totaltweets',\n",
       " 'usercreatedts',\n",
       " 'tweetid',\n",
       " 'tweetcreatedts',\n",
       " 'retweetcount',\n",
       " 'text',\n",
       " 'hashtags',\n",
       " 'language',\n",
       " 'coordinates',\n",
       " 'favorite_count',\n",
       " 'extractedts']"
      ]
     },
     "execution_count": 12,
     "metadata": {},
     "output_type": "execute_result"
    }
   ],
   "source": [
    "df.columns.to_list()"
   ]
  },
  {
   "cell_type": "markdown",
   "id": "3c0abfe7",
   "metadata": {},
   "source": [
    "### Sample"
   ]
  },
  {
   "cell_type": "code",
   "execution_count": null,
   "id": "5f701c76",
   "metadata": {},
   "outputs": [],
   "source": []
  },
  {
   "cell_type": "code",
   "execution_count": 13,
   "id": "3bece468",
   "metadata": {},
   "outputs": [
    {
     "ename": "KeyboardInterrupt",
     "evalue": "",
     "output_type": "error",
     "traceback": [
      "\u001b[0;31m---------------------------------------------------------------------------\u001b[0m",
      "\u001b[0;31mKeyboardInterrupt\u001b[0m                         Traceback (most recent call last)",
      "\u001b[0;32m/var/folders/3v/cd3_rvz10bd1jd08x0c03tpr0000gt/T/ipykernel_4105/86441832.py\u001b[0m in \u001b[0;36m<module>\u001b[0;34m\u001b[0m\n\u001b[0;32m----> 1\u001b[0;31m \u001b[0mdf\u001b[0m\u001b[0;34m[\u001b[0m\u001b[0;34m[\u001b[0m\u001b[0;34m'location'\u001b[0m\u001b[0;34m,\u001b[0m\u001b[0;34m'tweetid'\u001b[0m\u001b[0;34m,\u001b[0m\u001b[0;34m'tweetcreatedts'\u001b[0m\u001b[0;34m,\u001b[0m\u001b[0;34m'text'\u001b[0m\u001b[0;34m,\u001b[0m\u001b[0;34m'hashtags'\u001b[0m\u001b[0;34m,\u001b[0m\u001b[0;34m'language'\u001b[0m\u001b[0;34m]\u001b[0m\u001b[0;34m]\u001b[0m\u001b[0;34m.\u001b[0m\u001b[0msample\u001b[0m\u001b[0;34m(\u001b[0m\u001b[0;36m5\u001b[0m\u001b[0;34m)\u001b[0m\u001b[0;34m\u001b[0m\u001b[0;34m\u001b[0m\u001b[0m\n\u001b[0m",
      "\u001b[0;32m/opt/anaconda3/envs/ada/lib/python3.8/site-packages/pandas/core/frame.py\u001b[0m in \u001b[0;36m__getitem__\u001b[0;34m(self, key)\u001b[0m\n\u001b[1;32m   3515\u001b[0m             \u001b[0mindexer\u001b[0m \u001b[0;34m=\u001b[0m \u001b[0mnp\u001b[0m\u001b[0;34m.\u001b[0m\u001b[0mwhere\u001b[0m\u001b[0;34m(\u001b[0m\u001b[0mindexer\u001b[0m\u001b[0;34m)\u001b[0m\u001b[0;34m[\u001b[0m\u001b[0;36m0\u001b[0m\u001b[0;34m]\u001b[0m\u001b[0;34m\u001b[0m\u001b[0;34m\u001b[0m\u001b[0m\n\u001b[1;32m   3516\u001b[0m \u001b[0;34m\u001b[0m\u001b[0m\n\u001b[0;32m-> 3517\u001b[0;31m         \u001b[0mdata\u001b[0m \u001b[0;34m=\u001b[0m \u001b[0mself\u001b[0m\u001b[0;34m.\u001b[0m\u001b[0m_take_with_is_copy\u001b[0m\u001b[0;34m(\u001b[0m\u001b[0mindexer\u001b[0m\u001b[0;34m,\u001b[0m \u001b[0maxis\u001b[0m\u001b[0;34m=\u001b[0m\u001b[0;36m1\u001b[0m\u001b[0;34m)\u001b[0m\u001b[0;34m\u001b[0m\u001b[0;34m\u001b[0m\u001b[0m\n\u001b[0m\u001b[1;32m   3518\u001b[0m \u001b[0;34m\u001b[0m\u001b[0m\n\u001b[1;32m   3519\u001b[0m         \u001b[0;32mif\u001b[0m \u001b[0mis_single_key\u001b[0m\u001b[0;34m:\u001b[0m\u001b[0;34m\u001b[0m\u001b[0;34m\u001b[0m\u001b[0m\n",
      "\u001b[0;32m/opt/anaconda3/envs/ada/lib/python3.8/site-packages/pandas/core/generic.py\u001b[0m in \u001b[0;36m_take_with_is_copy\u001b[0;34m(self, indices, axis)\u001b[0m\n\u001b[1;32m   3714\u001b[0m         \u001b[0mSee\u001b[0m \u001b[0mthe\u001b[0m \u001b[0mdocstring\u001b[0m \u001b[0mof\u001b[0m\u001b[0;31m \u001b[0m\u001b[0;31m`\u001b[0m\u001b[0mtake\u001b[0m\u001b[0;31m`\u001b[0m \u001b[0;32mfor\u001b[0m \u001b[0mfull\u001b[0m \u001b[0mexplanation\u001b[0m \u001b[0mof\u001b[0m \u001b[0mthe\u001b[0m \u001b[0mparameters\u001b[0m\u001b[0;34m.\u001b[0m\u001b[0;34m\u001b[0m\u001b[0;34m\u001b[0m\u001b[0m\n\u001b[1;32m   3715\u001b[0m         \"\"\"\n\u001b[0;32m-> 3716\u001b[0;31m         \u001b[0mresult\u001b[0m \u001b[0;34m=\u001b[0m \u001b[0mself\u001b[0m\u001b[0;34m.\u001b[0m\u001b[0mtake\u001b[0m\u001b[0;34m(\u001b[0m\u001b[0mindices\u001b[0m\u001b[0;34m=\u001b[0m\u001b[0mindices\u001b[0m\u001b[0;34m,\u001b[0m \u001b[0maxis\u001b[0m\u001b[0;34m=\u001b[0m\u001b[0maxis\u001b[0m\u001b[0;34m)\u001b[0m\u001b[0;34m\u001b[0m\u001b[0;34m\u001b[0m\u001b[0m\n\u001b[0m\u001b[1;32m   3717\u001b[0m         \u001b[0;31m# Maybe set copy if we didn't actually change the index.\u001b[0m\u001b[0;34m\u001b[0m\u001b[0;34m\u001b[0m\u001b[0;34m\u001b[0m\u001b[0m\n\u001b[1;32m   3718\u001b[0m         \u001b[0;32mif\u001b[0m \u001b[0;32mnot\u001b[0m \u001b[0mresult\u001b[0m\u001b[0;34m.\u001b[0m\u001b[0m_get_axis\u001b[0m\u001b[0;34m(\u001b[0m\u001b[0maxis\u001b[0m\u001b[0;34m)\u001b[0m\u001b[0;34m.\u001b[0m\u001b[0mequals\u001b[0m\u001b[0;34m(\u001b[0m\u001b[0mself\u001b[0m\u001b[0;34m.\u001b[0m\u001b[0m_get_axis\u001b[0m\u001b[0;34m(\u001b[0m\u001b[0maxis\u001b[0m\u001b[0;34m)\u001b[0m\u001b[0;34m)\u001b[0m\u001b[0;34m:\u001b[0m\u001b[0;34m\u001b[0m\u001b[0;34m\u001b[0m\u001b[0m\n",
      "\u001b[0;32m/opt/anaconda3/envs/ada/lib/python3.8/site-packages/pandas/core/generic.py\u001b[0m in \u001b[0;36mtake\u001b[0;34m(self, indices, axis, is_copy, **kwargs)\u001b[0m\n\u001b[1;32m   3699\u001b[0m         \u001b[0mnv\u001b[0m\u001b[0;34m.\u001b[0m\u001b[0mvalidate_take\u001b[0m\u001b[0;34m(\u001b[0m\u001b[0;34m(\u001b[0m\u001b[0;34m)\u001b[0m\u001b[0;34m,\u001b[0m \u001b[0mkwargs\u001b[0m\u001b[0;34m)\u001b[0m\u001b[0;34m\u001b[0m\u001b[0;34m\u001b[0m\u001b[0m\n\u001b[1;32m   3700\u001b[0m \u001b[0;34m\u001b[0m\u001b[0m\n\u001b[0;32m-> 3701\u001b[0;31m         \u001b[0mself\u001b[0m\u001b[0;34m.\u001b[0m\u001b[0m_consolidate_inplace\u001b[0m\u001b[0;34m(\u001b[0m\u001b[0;34m)\u001b[0m\u001b[0;34m\u001b[0m\u001b[0;34m\u001b[0m\u001b[0m\n\u001b[0m\u001b[1;32m   3702\u001b[0m \u001b[0;34m\u001b[0m\u001b[0m\n\u001b[1;32m   3703\u001b[0m         new_data = self._mgr.take(\n",
      "\u001b[0;32m/opt/anaconda3/envs/ada/lib/python3.8/site-packages/pandas/core/generic.py\u001b[0m in \u001b[0;36m_consolidate_inplace\u001b[0;34m(self)\u001b[0m\n\u001b[1;32m   5651\u001b[0m             \u001b[0mself\u001b[0m\u001b[0;34m.\u001b[0m\u001b[0m_mgr\u001b[0m \u001b[0;34m=\u001b[0m \u001b[0mself\u001b[0m\u001b[0;34m.\u001b[0m\u001b[0m_mgr\u001b[0m\u001b[0;34m.\u001b[0m\u001b[0mconsolidate\u001b[0m\u001b[0;34m(\u001b[0m\u001b[0;34m)\u001b[0m\u001b[0;34m\u001b[0m\u001b[0;34m\u001b[0m\u001b[0m\n\u001b[1;32m   5652\u001b[0m \u001b[0;34m\u001b[0m\u001b[0m\n\u001b[0;32m-> 5653\u001b[0;31m         \u001b[0mself\u001b[0m\u001b[0;34m.\u001b[0m\u001b[0m_protect_consolidate\u001b[0m\u001b[0;34m(\u001b[0m\u001b[0mf\u001b[0m\u001b[0;34m)\u001b[0m\u001b[0;34m\u001b[0m\u001b[0;34m\u001b[0m\u001b[0m\n\u001b[0m\u001b[1;32m   5654\u001b[0m \u001b[0;34m\u001b[0m\u001b[0m\n\u001b[1;32m   5655\u001b[0m     \u001b[0;34m@\u001b[0m\u001b[0mfinal\u001b[0m\u001b[0;34m\u001b[0m\u001b[0;34m\u001b[0m\u001b[0m\n",
      "\u001b[0;32m/opt/anaconda3/envs/ada/lib/python3.8/site-packages/pandas/core/generic.py\u001b[0m in \u001b[0;36m_protect_consolidate\u001b[0;34m(self, f)\u001b[0m\n\u001b[1;32m   5639\u001b[0m             \u001b[0;32mreturn\u001b[0m \u001b[0mf\u001b[0m\u001b[0;34m(\u001b[0m\u001b[0;34m)\u001b[0m\u001b[0;34m\u001b[0m\u001b[0;34m\u001b[0m\u001b[0m\n\u001b[1;32m   5640\u001b[0m         \u001b[0mblocks_before\u001b[0m \u001b[0;34m=\u001b[0m \u001b[0mlen\u001b[0m\u001b[0;34m(\u001b[0m\u001b[0mself\u001b[0m\u001b[0;34m.\u001b[0m\u001b[0m_mgr\u001b[0m\u001b[0;34m.\u001b[0m\u001b[0mblocks\u001b[0m\u001b[0;34m)\u001b[0m\u001b[0;34m\u001b[0m\u001b[0;34m\u001b[0m\u001b[0m\n\u001b[0;32m-> 5641\u001b[0;31m         \u001b[0mresult\u001b[0m \u001b[0;34m=\u001b[0m \u001b[0mf\u001b[0m\u001b[0;34m(\u001b[0m\u001b[0;34m)\u001b[0m\u001b[0;34m\u001b[0m\u001b[0;34m\u001b[0m\u001b[0m\n\u001b[0m\u001b[1;32m   5642\u001b[0m         \u001b[0;32mif\u001b[0m \u001b[0mlen\u001b[0m\u001b[0;34m(\u001b[0m\u001b[0mself\u001b[0m\u001b[0;34m.\u001b[0m\u001b[0m_mgr\u001b[0m\u001b[0;34m.\u001b[0m\u001b[0mblocks\u001b[0m\u001b[0;34m)\u001b[0m \u001b[0;34m!=\u001b[0m \u001b[0mblocks_before\u001b[0m\u001b[0;34m:\u001b[0m\u001b[0;34m\u001b[0m\u001b[0;34m\u001b[0m\u001b[0m\n\u001b[1;32m   5643\u001b[0m             \u001b[0mself\u001b[0m\u001b[0;34m.\u001b[0m\u001b[0m_clear_item_cache\u001b[0m\u001b[0;34m(\u001b[0m\u001b[0;34m)\u001b[0m\u001b[0;34m\u001b[0m\u001b[0;34m\u001b[0m\u001b[0m\n",
      "\u001b[0;32m/opt/anaconda3/envs/ada/lib/python3.8/site-packages/pandas/core/generic.py\u001b[0m in \u001b[0;36mf\u001b[0;34m()\u001b[0m\n\u001b[1;32m   5649\u001b[0m \u001b[0;34m\u001b[0m\u001b[0m\n\u001b[1;32m   5650\u001b[0m         \u001b[0;32mdef\u001b[0m \u001b[0mf\u001b[0m\u001b[0;34m(\u001b[0m\u001b[0;34m)\u001b[0m\u001b[0;34m:\u001b[0m\u001b[0;34m\u001b[0m\u001b[0;34m\u001b[0m\u001b[0m\n\u001b[0;32m-> 5651\u001b[0;31m             \u001b[0mself\u001b[0m\u001b[0;34m.\u001b[0m\u001b[0m_mgr\u001b[0m \u001b[0;34m=\u001b[0m \u001b[0mself\u001b[0m\u001b[0;34m.\u001b[0m\u001b[0m_mgr\u001b[0m\u001b[0;34m.\u001b[0m\u001b[0mconsolidate\u001b[0m\u001b[0;34m(\u001b[0m\u001b[0;34m)\u001b[0m\u001b[0;34m\u001b[0m\u001b[0;34m\u001b[0m\u001b[0m\n\u001b[0m\u001b[1;32m   5652\u001b[0m \u001b[0;34m\u001b[0m\u001b[0m\n\u001b[1;32m   5653\u001b[0m         \u001b[0mself\u001b[0m\u001b[0;34m.\u001b[0m\u001b[0m_protect_consolidate\u001b[0m\u001b[0;34m(\u001b[0m\u001b[0mf\u001b[0m\u001b[0;34m)\u001b[0m\u001b[0;34m\u001b[0m\u001b[0;34m\u001b[0m\u001b[0m\n",
      "\u001b[0;32m/opt/anaconda3/envs/ada/lib/python3.8/site-packages/pandas/core/internals/managers.py\u001b[0m in \u001b[0;36mconsolidate\u001b[0;34m(self)\u001b[0m\n\u001b[1;32m    629\u001b[0m         \u001b[0mbm\u001b[0m \u001b[0;34m=\u001b[0m \u001b[0mtype\u001b[0m\u001b[0;34m(\u001b[0m\u001b[0mself\u001b[0m\u001b[0;34m)\u001b[0m\u001b[0;34m(\u001b[0m\u001b[0mself\u001b[0m\u001b[0;34m.\u001b[0m\u001b[0mblocks\u001b[0m\u001b[0;34m,\u001b[0m \u001b[0mself\u001b[0m\u001b[0;34m.\u001b[0m\u001b[0maxes\u001b[0m\u001b[0;34m,\u001b[0m \u001b[0mverify_integrity\u001b[0m\u001b[0;34m=\u001b[0m\u001b[0;32mFalse\u001b[0m\u001b[0;34m)\u001b[0m\u001b[0;34m\u001b[0m\u001b[0;34m\u001b[0m\u001b[0m\n\u001b[1;32m    630\u001b[0m         \u001b[0mbm\u001b[0m\u001b[0;34m.\u001b[0m\u001b[0m_is_consolidated\u001b[0m \u001b[0;34m=\u001b[0m \u001b[0;32mFalse\u001b[0m\u001b[0;34m\u001b[0m\u001b[0;34m\u001b[0m\u001b[0m\n\u001b[0;32m--> 631\u001b[0;31m         \u001b[0mbm\u001b[0m\u001b[0;34m.\u001b[0m\u001b[0m_consolidate_inplace\u001b[0m\u001b[0;34m(\u001b[0m\u001b[0;34m)\u001b[0m\u001b[0;34m\u001b[0m\u001b[0;34m\u001b[0m\u001b[0m\n\u001b[0m\u001b[1;32m    632\u001b[0m         \u001b[0;32mreturn\u001b[0m \u001b[0mbm\u001b[0m\u001b[0;34m\u001b[0m\u001b[0;34m\u001b[0m\u001b[0m\n\u001b[1;32m    633\u001b[0m \u001b[0;34m\u001b[0m\u001b[0m\n",
      "\u001b[0;32m/opt/anaconda3/envs/ada/lib/python3.8/site-packages/pandas/core/internals/managers.py\u001b[0m in \u001b[0;36m_consolidate_inplace\u001b[0;34m(self)\u001b[0m\n\u001b[1;32m   1683\u001b[0m     \u001b[0;32mdef\u001b[0m \u001b[0m_consolidate_inplace\u001b[0m\u001b[0;34m(\u001b[0m\u001b[0mself\u001b[0m\u001b[0;34m)\u001b[0m \u001b[0;34m->\u001b[0m \u001b[0;32mNone\u001b[0m\u001b[0;34m:\u001b[0m\u001b[0;34m\u001b[0m\u001b[0;34m\u001b[0m\u001b[0m\n\u001b[1;32m   1684\u001b[0m         \u001b[0;32mif\u001b[0m \u001b[0;32mnot\u001b[0m \u001b[0mself\u001b[0m\u001b[0;34m.\u001b[0m\u001b[0mis_consolidated\u001b[0m\u001b[0;34m(\u001b[0m\u001b[0;34m)\u001b[0m\u001b[0;34m:\u001b[0m\u001b[0;34m\u001b[0m\u001b[0;34m\u001b[0m\u001b[0m\n\u001b[0;32m-> 1685\u001b[0;31m             \u001b[0mself\u001b[0m\u001b[0;34m.\u001b[0m\u001b[0mblocks\u001b[0m \u001b[0;34m=\u001b[0m \u001b[0mtuple\u001b[0m\u001b[0;34m(\u001b[0m\u001b[0m_consolidate\u001b[0m\u001b[0;34m(\u001b[0m\u001b[0mself\u001b[0m\u001b[0;34m.\u001b[0m\u001b[0mblocks\u001b[0m\u001b[0;34m)\u001b[0m\u001b[0;34m)\u001b[0m\u001b[0;34m\u001b[0m\u001b[0;34m\u001b[0m\u001b[0m\n\u001b[0m\u001b[1;32m   1686\u001b[0m             \u001b[0mself\u001b[0m\u001b[0;34m.\u001b[0m\u001b[0m_is_consolidated\u001b[0m \u001b[0;34m=\u001b[0m \u001b[0;32mTrue\u001b[0m\u001b[0;34m\u001b[0m\u001b[0;34m\u001b[0m\u001b[0m\n\u001b[1;32m   1687\u001b[0m             \u001b[0mself\u001b[0m\u001b[0;34m.\u001b[0m\u001b[0m_known_consolidated\u001b[0m \u001b[0;34m=\u001b[0m \u001b[0;32mTrue\u001b[0m\u001b[0;34m\u001b[0m\u001b[0;34m\u001b[0m\u001b[0m\n",
      "\u001b[0;32m/opt/anaconda3/envs/ada/lib/python3.8/site-packages/pandas/core/internals/managers.py\u001b[0m in \u001b[0;36m_consolidate\u001b[0;34m(blocks)\u001b[0m\n\u001b[1;32m   2082\u001b[0m     \u001b[0mnew_blocks\u001b[0m\u001b[0;34m:\u001b[0m \u001b[0mlist\u001b[0m\u001b[0;34m[\u001b[0m\u001b[0mBlock\u001b[0m\u001b[0;34m]\u001b[0m \u001b[0;34m=\u001b[0m \u001b[0;34m[\u001b[0m\u001b[0;34m]\u001b[0m\u001b[0;34m\u001b[0m\u001b[0;34m\u001b[0m\u001b[0m\n\u001b[1;32m   2083\u001b[0m     \u001b[0;32mfor\u001b[0m \u001b[0;34m(\u001b[0m\u001b[0m_can_consolidate\u001b[0m\u001b[0;34m,\u001b[0m \u001b[0mdtype\u001b[0m\u001b[0;34m)\u001b[0m\u001b[0;34m,\u001b[0m \u001b[0mgroup_blocks\u001b[0m \u001b[0;32min\u001b[0m \u001b[0mgrouper\u001b[0m\u001b[0;34m:\u001b[0m\u001b[0;34m\u001b[0m\u001b[0;34m\u001b[0m\u001b[0m\n\u001b[0;32m-> 2084\u001b[0;31m         merged_blocks = _merge_blocks(\n\u001b[0m\u001b[1;32m   2085\u001b[0m             \u001b[0mlist\u001b[0m\u001b[0;34m(\u001b[0m\u001b[0mgroup_blocks\u001b[0m\u001b[0;34m)\u001b[0m\u001b[0;34m,\u001b[0m \u001b[0mdtype\u001b[0m\u001b[0;34m=\u001b[0m\u001b[0mdtype\u001b[0m\u001b[0;34m,\u001b[0m \u001b[0mcan_consolidate\u001b[0m\u001b[0;34m=\u001b[0m\u001b[0m_can_consolidate\u001b[0m\u001b[0;34m\u001b[0m\u001b[0;34m\u001b[0m\u001b[0m\n\u001b[1;32m   2086\u001b[0m         )\n",
      "\u001b[0;32m/opt/anaconda3/envs/ada/lib/python3.8/site-packages/pandas/core/internals/managers.py\u001b[0m in \u001b[0;36m_merge_blocks\u001b[0;34m(blocks, dtype, can_consolidate)\u001b[0m\n\u001b[1;32m   2109\u001b[0m             \u001b[0;31m# Sequence[Union[int, float, complex, str, bytes, generic]],\u001b[0m\u001b[0;34m\u001b[0m\u001b[0;34m\u001b[0m\u001b[0;34m\u001b[0m\u001b[0m\n\u001b[1;32m   2110\u001b[0m             \u001b[0;31m# Sequence[Sequence[Any]], SupportsArray]]\u001b[0m\u001b[0;34m\u001b[0m\u001b[0;34m\u001b[0m\u001b[0;34m\u001b[0m\u001b[0m\n\u001b[0;32m-> 2111\u001b[0;31m             \u001b[0mnew_values\u001b[0m \u001b[0;34m=\u001b[0m \u001b[0mnp\u001b[0m\u001b[0;34m.\u001b[0m\u001b[0mvstack\u001b[0m\u001b[0;34m(\u001b[0m\u001b[0;34m[\u001b[0m\u001b[0mb\u001b[0m\u001b[0;34m.\u001b[0m\u001b[0mvalues\u001b[0m \u001b[0;32mfor\u001b[0m \u001b[0mb\u001b[0m \u001b[0;32min\u001b[0m \u001b[0mblocks\u001b[0m\u001b[0;34m]\u001b[0m\u001b[0;34m)\u001b[0m  \u001b[0;31m# type: ignore[misc]\u001b[0m\u001b[0;34m\u001b[0m\u001b[0;34m\u001b[0m\u001b[0m\n\u001b[0m\u001b[1;32m   2112\u001b[0m         \u001b[0;32melse\u001b[0m\u001b[0;34m:\u001b[0m\u001b[0;34m\u001b[0m\u001b[0;34m\u001b[0m\u001b[0m\n\u001b[1;32m   2113\u001b[0m             \u001b[0mbvals\u001b[0m \u001b[0;34m=\u001b[0m \u001b[0;34m[\u001b[0m\u001b[0mblk\u001b[0m\u001b[0;34m.\u001b[0m\u001b[0mvalues\u001b[0m \u001b[0;32mfor\u001b[0m \u001b[0mblk\u001b[0m \u001b[0;32min\u001b[0m \u001b[0mblocks\u001b[0m\u001b[0;34m]\u001b[0m\u001b[0;34m\u001b[0m\u001b[0;34m\u001b[0m\u001b[0m\n",
      "\u001b[0;32m<__array_function__ internals>\u001b[0m in \u001b[0;36mvstack\u001b[0;34m(*args, **kwargs)\u001b[0m\n",
      "\u001b[0;32m/opt/anaconda3/envs/ada/lib/python3.8/site-packages/numpy/core/shape_base.py\u001b[0m in \u001b[0;36mvstack\u001b[0;34m(tup)\u001b[0m\n\u001b[1;32m    281\u001b[0m     \u001b[0;32mif\u001b[0m \u001b[0;32mnot\u001b[0m \u001b[0misinstance\u001b[0m\u001b[0;34m(\u001b[0m\u001b[0marrs\u001b[0m\u001b[0;34m,\u001b[0m \u001b[0mlist\u001b[0m\u001b[0;34m)\u001b[0m\u001b[0;34m:\u001b[0m\u001b[0;34m\u001b[0m\u001b[0;34m\u001b[0m\u001b[0m\n\u001b[1;32m    282\u001b[0m         \u001b[0marrs\u001b[0m \u001b[0;34m=\u001b[0m \u001b[0;34m[\u001b[0m\u001b[0marrs\u001b[0m\u001b[0;34m]\u001b[0m\u001b[0;34m\u001b[0m\u001b[0;34m\u001b[0m\u001b[0m\n\u001b[0;32m--> 283\u001b[0;31m     \u001b[0;32mreturn\u001b[0m \u001b[0m_nx\u001b[0m\u001b[0;34m.\u001b[0m\u001b[0mconcatenate\u001b[0m\u001b[0;34m(\u001b[0m\u001b[0marrs\u001b[0m\u001b[0;34m,\u001b[0m \u001b[0;36m0\u001b[0m\u001b[0;34m)\u001b[0m\u001b[0;34m\u001b[0m\u001b[0;34m\u001b[0m\u001b[0m\n\u001b[0m\u001b[1;32m    284\u001b[0m \u001b[0;34m\u001b[0m\u001b[0m\n\u001b[1;32m    285\u001b[0m \u001b[0;34m\u001b[0m\u001b[0m\n",
      "\u001b[0;32m<__array_function__ internals>\u001b[0m in \u001b[0;36mconcatenate\u001b[0;34m(*args, **kwargs)\u001b[0m\n",
      "\u001b[0;31mKeyboardInterrupt\u001b[0m: "
     ]
    }
   ],
   "source": [
    "df[['location','tweetid','tweetcreatedts','text','hashtags','language']].sample(5)"
   ]
  },
  {
   "cell_type": "markdown",
   "id": "eafc52ba",
   "metadata": {},
   "source": [
    "## 2. Dataset selection\n",
    "We want to keep only english and refugee related tweets"
   ]
  },
  {
   "cell_type": "code",
   "execution_count": 14,
   "id": "b25a4dd7",
   "metadata": {},
   "outputs": [],
   "source": [
    "# available languages \n",
    "lan = df['language'].value_counts().sort_values(ascending=False)[0:10]"
   ]
  },
  {
   "cell_type": "code",
   "execution_count": 15,
   "id": "3b18fa74",
   "metadata": {},
   "outputs": [],
   "source": [
    "lan_per = lan.apply(lambda x : x/len(df)*100)"
   ]
  },
  {
   "cell_type": "code",
   "execution_count": 16,
   "id": "0cfc91ce",
   "metadata": {},
   "outputs": [
    {
     "data": {
      "text/plain": [
       "Text(0.5, 1.0, 'Language distribution of the April dataset')"
      ]
     },
     "execution_count": 16,
     "metadata": {},
     "output_type": "execute_result"
    },
    {
     "data": {
      "image/png": "[encoded data removed]",
      "text/plain": [
       "<Figure size 1080x720 with 1 Axes>"
      ]
     },
     "metadata": {
      "needs_background": "light"
     },
     "output_type": "display_data"
    }
   ],
   "source": [
    "# plot\n",
    "plt = lan_per.plot.bar(rot=45,figsize=(15, 10),color=['C0', 'C1', 'C2','C3','C5','C6','C7','C8','C9','C10'])\n",
    "\n",
    "# parameters\n",
    "plt.set_ylabel('Percentage of tweets',fontdict={'fontsize':20})\n",
    "plt.set_xlabel('Languages',fontdict={'fontsize':20})\n",
    "plt.tick_params(axis='x', which='both', labelsize=22)\n",
    "plt.tick_params(axis='y', which='both', labelsize=22)\n",
    "plt.set_title('Language distribution of the April dataset',pad=20, fontdict={'fontsize':24})"
   ]
  },
  {
   "cell_type": "code",
   "execution_count": 17,
   "id": "dda0a2ec",
   "metadata": {},
   "outputs": [],
   "source": [
    "# english selection\n",
    "df_en_raw = df[df['language']== 'en']\n",
    "len_en_raw = len(df_en_raw['tweetid'])\n",
    "# french selection\n",
    "df_fr_raw = df[df['language']== 'fr']\n",
    "len_fr_raw = len(df_fr_raw['tweetid'])"
   ]
  },
  {
   "cell_type": "markdown",
   "id": "a35943cf",
   "metadata": {},
   "source": [
    "#### De-duplication"
   ]
  },
  {
   "cell_type": "code",
   "execution_count": 13,
   "id": "c1b7b3c7",
   "metadata": {},
   "outputs": [
    {
     "data": {
      "text/html": [
       "<div>\n",
       "<style scoped>\n",
       "    .dataframe tbody tr th:only-of-type {\n",
       "        vertical-align: middle;\n",
       "    }\n",
       "\n",
       "    .dataframe tbody tr th {\n",
       "        vertical-align: top;\n",
       "    }\n",
       "\n",
       "    .dataframe thead th {\n",
       "        text-align: right;\n",
       "    }\n",
       "</style>\n",
       "<table border=\"1\" class=\"dataframe\">\n",
       "  <thead>\n",
       "    <tr style=\"text-align: right;\">\n",
       "      <th></th>\n",
       "      <th>Unnamed: 0</th>\n",
       "      <th>userid</th>\n",
       "      <th>username</th>\n",
       "      <th>acctdesc</th>\n",
       "      <th>location</th>\n",
       "      <th>following</th>\n",
       "      <th>followers</th>\n",
       "      <th>totaltweets</th>\n",
       "      <th>usercreatedts</th>\n",
       "      <th>tweetid</th>\n",
       "      <th>...</th>\n",
       "      <th>original_tweet_id</th>\n",
       "      <th>original_tweet_userid</th>\n",
       "      <th>original_tweet_username</th>\n",
       "      <th>in_reply_to_status_id</th>\n",
       "      <th>in_reply_to_user_id</th>\n",
       "      <th>in_reply_to_screen_name</th>\n",
       "      <th>is_quote_status</th>\n",
       "      <th>quoted_status_id</th>\n",
       "      <th>quoted_status_userid</th>\n",
       "      <th>quoted_status_username</th>\n",
       "    </tr>\n",
       "  </thead>\n",
       "  <tbody>\n",
       "    <tr>\n",
       "      <th>0</th>\n",
       "      <td>0</td>\n",
       "      <td>16882774</td>\n",
       "      <td>Yaniela</td>\n",
       "      <td>Animal lover, supports those who fight injustice wherever it raises its evil head. Personality flaws: Grumpy on occasion, cannot tolerate stupidity. #VOTEBLUE</td>\n",
       "      <td>Hawaii</td>\n",
       "      <td>1158</td>\n",
       "      <td>392</td>\n",
       "      <td>88366</td>\n",
       "      <td>2008-10-21 07:34:04.000000</td>\n",
       "      <td>1509681950042198030</td>\n",
       "      <td>...</td>\n",
       "      <td>NaN</td>\n",
       "      <td>NaN</td>\n",
       "      <td>NaN</td>\n",
       "      <td>NaN</td>\n",
       "      <td>NaN</td>\n",
       "      <td>NaN</td>\n",
       "      <td>NaN</td>\n",
       "      <td>NaN</td>\n",
       "      <td>NaN</td>\n",
       "      <td>NaN</td>\n",
       "    </tr>\n",
       "    <tr>\n",
       "      <th>1</th>\n",
       "      <td>1</td>\n",
       "      <td>3205296069</td>\n",
       "      <td>gregffff</td>\n",
       "      <td>NaN</td>\n",
       "      <td>NaN</td>\n",
       "      <td>122</td>\n",
       "      <td>881</td>\n",
       "      <td>99853</td>\n",
       "      <td>2015-04-25 11:24:34.000000</td>\n",
       "      <td>1509681950151348229</td>\n",
       "      <td>...</td>\n",
       "      <td>NaN</td>\n",
       "      <td>NaN</td>\n",
       "      <td>NaN</td>\n",
       "      <td>NaN</td>\n",
       "      <td>NaN</td>\n",
       "      <td>NaN</td>\n",
       "      <td>NaN</td>\n",
       "      <td>NaN</td>\n",
       "      <td>NaN</td>\n",
       "      <td>NaN</td>\n",
       "    </tr>\n",
       "    <tr>\n",
       "      <th>2</th>\n",
       "      <td>2</td>\n",
       "      <td>1235940869812809728</td>\n",
       "      <td>ThanapornThon17</td>\n",
       "      <td>เล่นไวโอลิน\\nพูดภาษาจีน</td>\n",
       "      <td>NaN</td>\n",
       "      <td>231</td>\n",
       "      <td>72</td>\n",
       "      <td>5481</td>\n",
       "      <td>2020-03-06 14:52:01.000000</td>\n",
       "      <td>1509681950683926556</td>\n",
       "      <td>...</td>\n",
       "      <td>NaN</td>\n",
       "      <td>NaN</td>\n",
       "      <td>NaN</td>\n",
       "      <td>NaN</td>\n",
       "      <td>NaN</td>\n",
       "      <td>NaN</td>\n",
       "      <td>NaN</td>\n",
       "      <td>NaN</td>\n",
       "      <td>NaN</td>\n",
       "      <td>NaN</td>\n",
       "    </tr>\n",
       "    <tr>\n",
       "      <th>3</th>\n",
       "      <td>3</td>\n",
       "      <td>1347985375566966784</td>\n",
       "      <td>I_Protest_2021</td>\n",
       "      <td>01000001 01101110 01101111 01101110 01111001 01101101 01101111 01110101 01110011 00100001</td>\n",
       "      <td>International Web Zone</td>\n",
       "      <td>399</td>\n",
       "      <td>377</td>\n",
       "      <td>301</td>\n",
       "      <td>2021-01-09 19:15:44.000000</td>\n",
       "      <td>1509681951116046336</td>\n",
       "      <td>...</td>\n",
       "      <td>NaN</td>\n",
       "      <td>NaN</td>\n",
       "      <td>NaN</td>\n",
       "      <td>NaN</td>\n",
       "      <td>NaN</td>\n",
       "      <td>NaN</td>\n",
       "      <td>NaN</td>\n",
       "      <td>NaN</td>\n",
       "      <td>NaN</td>\n",
       "      <td>NaN</td>\n",
       "    </tr>\n",
       "    <tr>\n",
       "      <th>4</th>\n",
       "      <td>4</td>\n",
       "      <td>1505394816636846083</td>\n",
       "      <td>Marsh_Win_01</td>\n",
       "      <td>🌿@Pickaw @TWITTERPICKER 🌿Winning isn’t everything🌾but wanting to win is🎊 #Marsh_Win_01 🌱</td>\n",
       "      <td>Hunter Account</td>\n",
       "      <td>158</td>\n",
       "      <td>25</td>\n",
       "      <td>8982</td>\n",
       "      <td>2022-03-20 04:04:40.000000</td>\n",
       "      <td>1509681951304990720</td>\n",
       "      <td>...</td>\n",
       "      <td>NaN</td>\n",
       "      <td>NaN</td>\n",
       "      <td>NaN</td>\n",
       "      <td>NaN</td>\n",
       "      <td>NaN</td>\n",
       "      <td>NaN</td>\n",
       "      <td>NaN</td>\n",
       "      <td>NaN</td>\n",
       "      <td>NaN</td>\n",
       "      <td>NaN</td>\n",
       "    </tr>\n",
       "  </tbody>\n",
       "</table>\n",
       "<p>5 rows × 29 columns</p>\n",
       "</div>"
      ],
      "text/plain": [
       "   Unnamed: 0               userid         username  \\\n",
       "0           0             16882774          Yaniela   \n",
       "1           1           3205296069         gregffff   \n",
       "2           2  1235940869812809728  ThanapornThon17   \n",
       "3           3  1347985375566966784   I_Protest_2021   \n",
       "4           4  1505394816636846083     Marsh_Win_01   \n",
       "\n",
       "                                                                                                                                                         acctdesc  \\\n",
       "0  Animal lover, supports those who fight injustice wherever it raises its evil head. Personality flaws: Grumpy on occasion, cannot tolerate stupidity. #VOTEBLUE   \n",
       "1                                                                                                                                                             NaN   \n",
       "2                                                                                                                                         เล่นไวโอลิน\\nพูดภาษาจีน   \n",
       "3                                                                       01000001 01101110 01101111 01101110 01111001 01101101 01101111 01110101 01110011 00100001   \n",
       "4                                                                        🌿@Pickaw @TWITTERPICKER 🌿Winning isn’t everything🌾but wanting to win is🎊 #Marsh_Win_01 🌱   \n",
       "\n",
       "                 location  following  followers  totaltweets  \\\n",
       "0                  Hawaii       1158        392        88366   \n",
       "1                     NaN        122        881        99853   \n",
       "2                     NaN        231         72         5481   \n",
       "3  International Web Zone        399        377          301   \n",
       "4          Hunter Account        158         25         8982   \n",
       "\n",
       "                usercreatedts              tweetid  ... original_tweet_id  \\\n",
       "0  2008-10-21 07:34:04.000000  1509681950042198030  ...               NaN   \n",
       "1  2015-04-25 11:24:34.000000  1509681950151348229  ...               NaN   \n",
       "2  2020-03-06 14:52:01.000000  1509681950683926556  ...               NaN   \n",
       "3  2021-01-09 19:15:44.000000  1509681951116046336  ...               NaN   \n",
       "4  2022-03-20 04:04:40.000000  1509681951304990720  ...               NaN   \n",
       "\n",
       "   original_tweet_userid original_tweet_username in_reply_to_status_id  \\\n",
       "0                    NaN                     NaN                   NaN   \n",
       "1                    NaN                     NaN                   NaN   \n",
       "2                    NaN                     NaN                   NaN   \n",
       "3                    NaN                     NaN                   NaN   \n",
       "4                    NaN                     NaN                   NaN   \n",
       "\n",
       "  in_reply_to_user_id in_reply_to_screen_name  is_quote_status  \\\n",
       "0                 NaN                     NaN              NaN   \n",
       "1                 NaN                     NaN              NaN   \n",
       "2                 NaN                     NaN              NaN   \n",
       "3                 NaN                     NaN              NaN   \n",
       "4                 NaN                     NaN              NaN   \n",
       "\n",
       "  quoted_status_id quoted_status_userid  quoted_status_username  \n",
       "0              NaN                  NaN                     NaN  \n",
       "1              NaN                  NaN                     NaN  \n",
       "2              NaN                  NaN                     NaN  \n",
       "3              NaN                  NaN                     NaN  \n",
       "4              NaN                  NaN                     NaN  \n",
       "\n",
       "[5 rows x 29 columns]"
      ]
     },
     "execution_count": 13,
     "metadata": {},
     "output_type": "execute_result"
    }
   ],
   "source": [
    "df_en_raw.head()"
   ]
  },
  {
   "cell_type": "code",
   "execution_count": 19,
   "id": "30040db9",
   "metadata": {},
   "outputs": [],
   "source": [
    "# To keep the original tweet, sort the dataframe by creation dates\n",
    "df_en_raw = df_en_raw.sort_values(['tweetcreatedts'])\n",
    "#df_en_raw.head(50)\n",
    "#df_fr_raw = df_fr_raw.sort_values(['tweetcreatedts'])"
   ]
  },
  {
   "cell_type": "code",
   "execution_count": 20,
   "id": "77e5486b",
   "metadata": {},
   "outputs": [
    {
     "name": "stdout",
     "output_type": "stream",
     "text": [
      "24.73% of the english tweets are retweet. There are 2594755 english uniques tweets\n"
     ]
    }
   ],
   "source": [
    "# english \n",
    "df_en_unique = df_en_raw[df_en_raw.duplicated(subset=['text'], keep='first')==False]# the duplciated work as a mask, the false are not duplicated\n",
    "len_df_en_uni = len(df_en_unique[df_en_unique==False])\n",
    "per_en_unique = (len_df_en_uni/len_en_raw)*100\n",
    "print('{:.4}% of the english tweets are retweet. There are {} english uniques tweets'.format(per_en_unique,len_df_en_uni))"
   ]
  },
  {
   "cell_type": "code",
   "execution_count": null,
   "id": "cf131395",
   "metadata": {},
   "outputs": [],
   "source": [
    "# french \n",
    "df_fr_unique = df_fr_raw[df_fr_raw.duplicated(subset=['text'], keep='first')==False] # the duplciated work as a mask, the false are not duplicated\n",
    "len_df_fr_uni = len(df_fr_unique)\n",
    "per_fr_unique = (len_df_fr_uni/len_fr_raw)*100\n",
    "print('{:.4}% of the french tweets are retweet. There are {} french uniques tweets'.format(per_fr_unique,len_df_fr_uni))"
   ]
  },
  {
   "cell_type": "markdown",
   "id": "7335ff87",
   "metadata": {},
   "source": [
    "### Dataset features"
   ]
  },
  {
   "cell_type": "code",
   "execution_count": 21,
   "id": "91e1e6bd",
   "metadata": {},
   "outputs": [],
   "source": [
    "df_en = df_en_unique\n",
    "#df_fr = df_fr_unique"
   ]
  },
  {
   "cell_type": "code",
   "execution_count": 22,
   "id": "b3e86b9c",
   "metadata": {},
   "outputs": [
    {
     "name": "stdout",
     "output_type": "stream",
     "text": [
      "There are 2594755 unique english tweets.\n"
     ]
    }
   ],
   "source": [
    "per_en = len(df_en)/len(df)*100\n",
    "print(f'There are {len(df_en)} unique english tweets.')"
   ]
  },
  {
   "cell_type": "code",
   "execution_count": 19,
   "id": "efc5b294",
   "metadata": {},
   "outputs": [
    {
     "name": "stdout",
     "output_type": "stream",
     "text": [
      "There are 76517 unique french tweets.\n"
     ]
    }
   ],
   "source": [
    "per_fr = len(df_fr)/len(df)*100\n",
    "print(f'There are {len(df_fr)} unique french tweets.')"
   ]
  },
  {
   "cell_type": "code",
   "execution_count": 23,
   "id": "56b4c131",
   "metadata": {},
   "outputs": [],
   "source": [
    "keywords_en = ('refugee|migrant|asylum seeker')\n",
    "keywords_fr = ('refugié|migrant|demandeur d\\'asile')"
   ]
  },
  {
   "cell_type": "code",
   "execution_count": 24,
   "id": "24bcbb89",
   "metadata": {},
   "outputs": [
    {
     "name": "stdout",
     "output_type": "stream",
     "text": [
      "There are 38310 english tweets containing refugee keywords.\n",
      "1.48% of the french tweets are related to the refugee topic.\n"
     ]
    }
   ],
   "source": [
    "# English tweets with REFUGEE in TEXT\n",
    "ref_en = df_en[df_en['text'].str.contains(keywords_en)]\n",
    "per_en_ref = len(ref_en)/len(df_en)*100\n",
    "print(f'There are {len(ref_en)} english tweets containing refugee keywords.')\n",
    "print('{:2.3}% of the english tweets are related to the refugee topic.'.format(per_en_ref))"
   ]
  },
  {
   "cell_type": "code",
   "execution_count": 25,
   "id": "42495f43",
   "metadata": {},
   "outputs": [],
   "source": [
    "ref_en = pd.read_pickle(gen_data_PATH+'ref_en_unique_ref.pkl')"
   ]
  },
  {
   "cell_type": "code",
   "execution_count": 24,
   "id": "6de0e9af",
   "metadata": {},
   "outputs": [
    {
     "name": "stdout",
     "output_type": "stream",
     "text": [
      "There are 80 french tweets containing refugee keywords.\n",
      "0.105% of the french tweets are related to the refugee topic.\n"
     ]
    }
   ],
   "source": [
    "# French tweets with REFUGEE in TEXT\n",
    "ref_fr = df_fr[df_fr['text'].str.contains(keywords_fr)]\n",
    "per_fr_ref = len(ref_fr)/len(df_fr)*100\n",
    "print(f'There are {len(ref_fr)} french tweets containing refugee keywords.')\n",
    "print('{:2.3}% of the french tweets are related to the refugee topic.'.format(per_fr_ref))"
   ]
  },
  {
   "cell_type": "markdown",
   "id": "3bd7dc46",
   "metadata": {},
   "source": [
    "#### Sample"
   ]
  },
  {
   "cell_type": "code",
   "execution_count": 25,
   "id": "092502a9",
   "metadata": {},
   "outputs": [
    {
     "data": {
      "text/html": [
       "<div>\n",
       "<style scoped>\n",
       "    .dataframe tbody tr th:only-of-type {\n",
       "        vertical-align: middle;\n",
       "    }\n",
       "\n",
       "    .dataframe tbody tr th {\n",
       "        vertical-align: top;\n",
       "    }\n",
       "\n",
       "    .dataframe thead th {\n",
       "        text-align: right;\n",
       "    }\n",
       "</style>\n",
       "<table border=\"1\" class=\"dataframe\">\n",
       "  <thead>\n",
       "    <tr style=\"text-align: right;\">\n",
       "      <th></th>\n",
       "      <th>location</th>\n",
       "      <th>tweetid</th>\n",
       "      <th>tweetcreatedts</th>\n",
       "      <th>text</th>\n",
       "      <th>hashtags</th>\n",
       "      <th>language</th>\n",
       "    </tr>\n",
       "  </thead>\n",
       "  <tbody>\n",
       "    <tr>\n",
       "      <th>214650</th>\n",
       "      <td>Web-based</td>\n",
       "      <td>1513540001686040576</td>\n",
       "      <td>2022-04-11 15:30:31.000000</td>\n",
       "      <td>The entire A2L library and supporting resources will be made available at no cost to schools supporting refugees.\\n\\nClick to learn more: https://t.co/IW4ZrDieiA\\n\\n#ukraine  #refugeesupport #educationmatters #learningneverstops #helpspreadthenews htt...</td>\n",
       "      <td>[{'text': 'ukraine', 'indices': [161, 169]}, {'text': 'refugeesupport', 'indices': [171, 186]}, {'text': 'educationmatters', 'indices': [187, 204]}, {'text': 'learningneverstops', 'indices': [205, 224]}, {'text': 'helpspreadthenews', 'indices': [225, ...</td>\n",
       "      <td>en</td>\n",
       "    </tr>\n",
       "    <tr>\n",
       "      <th>290340</th>\n",
       "      <td>The #UK 🇬🇧 and #EU 🇪🇺</td>\n",
       "      <td>1513938313429893127</td>\n",
       "      <td>2022-04-12 17:53:16.000000</td>\n",
       "      <td>@10DowningStreet @NadineDorries How many #Ukraine refugees have been given help in the Great #ENGLAND by this @Conservatives government?\\n\\nThe great British people have stepped up but absolutely no help by this government 🙄</td>\n",
       "      <td>[{'text': 'Ukraine', 'indices': [41, 49]}, {'text': 'ENGLAND', 'indices': [93, 101]}]</td>\n",
       "      <td>en</td>\n",
       "    </tr>\n",
       "    <tr>\n",
       "      <th>100749</th>\n",
       "      <td>NaN</td>\n",
       "      <td>1510175909671837696</td>\n",
       "      <td>2022-04-02 08:42:49.000000</td>\n",
       "      <td>Putin's generals and commanders are also responsible for Russia's atrocities. Many of them have experience bombing Syria, so they are masters in turning people into refugees and beautiful cities into graveyards. #StopRussia https://t.co/rDcYhnaITk</td>\n",
       "      <td>[]</td>\n",
       "      <td>en</td>\n",
       "    </tr>\n",
       "    <tr>\n",
       "      <th>104546</th>\n",
       "      <td>Tamilnadu</td>\n",
       "      <td>1511973401564696576</td>\n",
       "      <td>2022-04-07 07:45:24.000000</td>\n",
       "      <td>Spanish Kindergarten children welcoming a new refugee student from Ukraine\\n\\n#Ukraine #UkraineRussia #UkraineRussiaConflict #Spain #Kindergarden #healing #healingjourney #classmates #Newstn https://t.co/QD6KjpDXW7</td>\n",
       "      <td>[{'text': 'Ukraine', 'indices': [76, 84]}, {'text': 'UkraineRussia', 'indices': [85, 99]}, {'text': 'UkraineRussiaConflict', 'indices': [100, 122]}, {'text': 'Spain', 'indices': [123, 129]}, {'text': 'Kindergarden', 'indices': [130, 143]}, {'text': 'h...</td>\n",
       "      <td>en</td>\n",
       "    </tr>\n",
       "    <tr>\n",
       "      <th>338722</th>\n",
       "      <td>NaN</td>\n",
       "      <td>1511786255033450512</td>\n",
       "      <td>2022-04-06 19:21:45.000000</td>\n",
       "      <td>A pleasure to talk with the Harvard EdCast &amp;amp; reflect on what we can learn from other experiences of #refugeeeducation for millions of children fleeing #Ukraine, drawing on research in #RightWhereWeBelong https://t.co/MKKXSagvfe</td>\n",
       "      <td>[{'text': 'refugeeeducation', 'indices': [104, 121]}, {'text': 'Ukraine', 'indices': [155, 163]}, {'text': 'RightWhereWeBelong', 'indices': [188, 207]}]</td>\n",
       "      <td>en</td>\n",
       "    </tr>\n",
       "  </tbody>\n",
       "</table>\n",
       "</div>"
      ],
      "text/plain": [
       "                       location              tweetid  \\\n",
       "214650                Web-based  1513540001686040576   \n",
       "290340   The #UK 🇬🇧 and #EU 🇪🇺   1513938313429893127   \n",
       "100749                      NaN  1510175909671837696   \n",
       "104546                Tamilnadu  1511973401564696576   \n",
       "338722                      NaN  1511786255033450512   \n",
       "\n",
       "                    tweetcreatedts  \\\n",
       "214650  2022-04-11 15:30:31.000000   \n",
       "290340  2022-04-12 17:53:16.000000   \n",
       "100749  2022-04-02 08:42:49.000000   \n",
       "104546  2022-04-07 07:45:24.000000   \n",
       "338722  2022-04-06 19:21:45.000000   \n",
       "\n",
       "                                                                                                                                                                                                                                                                  text  \\\n",
       "214650  The entire A2L library and supporting resources will be made available at no cost to schools supporting refugees.\\n\\nClick to learn more: https://t.co/IW4ZrDieiA\\n\\n#ukraine  #refugeesupport #educationmatters #learningneverstops #helpspreadthenews htt...   \n",
       "290340                                @10DowningStreet @NadineDorries How many #Ukraine refugees have been given help in the Great #ENGLAND by this @Conservatives government?\\n\\nThe great British people have stepped up but absolutely no help by this government 🙄   \n",
       "100749         Putin's generals and commanders are also responsible for Russia's atrocities. Many of them have experience bombing Syria, so they are masters in turning people into refugees and beautiful cities into graveyards. #StopRussia https://t.co/rDcYhnaITk   \n",
       "104546                                          Spanish Kindergarten children welcoming a new refugee student from Ukraine\\n\\n#Ukraine #UkraineRussia #UkraineRussiaConflict #Spain #Kindergarden #healing #healingjourney #classmates #Newstn https://t.co/QD6KjpDXW7   \n",
       "338722                         A pleasure to talk with the Harvard EdCast &amp; reflect on what we can learn from other experiences of #refugeeeducation for millions of children fleeing #Ukraine, drawing on research in #RightWhereWeBelong https://t.co/MKKXSagvfe   \n",
       "\n",
       "                                                                                                                                                                                                                                                              hashtags  \\\n",
       "214650  [{'text': 'ukraine', 'indices': [161, 169]}, {'text': 'refugeesupport', 'indices': [171, 186]}, {'text': 'educationmatters', 'indices': [187, 204]}, {'text': 'learningneverstops', 'indices': [205, 224]}, {'text': 'helpspreadthenews', 'indices': [225, ...   \n",
       "290340                                                                                                                                                                           [{'text': 'Ukraine', 'indices': [41, 49]}, {'text': 'ENGLAND', 'indices': [93, 101]}]   \n",
       "100749                                                                                                                                                                                                                                                              []   \n",
       "104546  [{'text': 'Ukraine', 'indices': [76, 84]}, {'text': 'UkraineRussia', 'indices': [85, 99]}, {'text': 'UkraineRussiaConflict', 'indices': [100, 122]}, {'text': 'Spain', 'indices': [123, 129]}, {'text': 'Kindergarden', 'indices': [130, 143]}, {'text': 'h...   \n",
       "338722                                                                                                        [{'text': 'refugeeeducation', 'indices': [104, 121]}, {'text': 'Ukraine', 'indices': [155, 163]}, {'text': 'RightWhereWeBelong', 'indices': [188, 207]}]   \n",
       "\n",
       "       language  \n",
       "214650       en  \n",
       "290340       en  \n",
       "100749       en  \n",
       "104546       en  \n",
       "338722       en  "
      ]
     },
     "execution_count": 25,
     "metadata": {},
     "output_type": "execute_result"
    }
   ],
   "source": [
    "ref_en[['location','tweetid','tweetcreatedts','text','hashtags','language']].sample(5)"
   ]
  },
  {
   "cell_type": "code",
   "execution_count": 293,
   "id": "8d11a8db",
   "metadata": {},
   "outputs": [
    {
     "data": {
      "text/plain": [
       "text    Anyone saying that the #Ukraine conflict started in Feb is either lying or is clueless. The world has millions of more refugees today because of the regime change &amp; #NATO expansion headed by the US in 2014. Not to mention the US using our tax doll...\n",
       "Name: 4286, dtype: object"
      ]
     },
     "execution_count": 293,
     "metadata": {},
     "output_type": "execute_result"
    }
   ],
   "source": [
    "ref_en[['text']].iloc[15]"
   ]
  },
  {
   "cell_type": "code",
   "execution_count": 294,
   "id": "2a5ddf23",
   "metadata": {},
   "outputs": [
    {
     "data": {
      "text/html": [
       "<div>\n",
       "<style scoped>\n",
       "    .dataframe tbody tr th:only-of-type {\n",
       "        vertical-align: middle;\n",
       "    }\n",
       "\n",
       "    .dataframe tbody tr th {\n",
       "        vertical-align: top;\n",
       "    }\n",
       "\n",
       "    .dataframe thead th {\n",
       "        text-align: right;\n",
       "    }\n",
       "</style>\n",
       "<table border=\"1\" class=\"dataframe\">\n",
       "  <thead>\n",
       "    <tr style=\"text-align: right;\">\n",
       "      <th></th>\n",
       "      <th>location</th>\n",
       "      <th>tweetid</th>\n",
       "      <th>tweetcreatedts</th>\n",
       "      <th>text</th>\n",
       "      <th>hashtags</th>\n",
       "      <th>language</th>\n",
       "    </tr>\n",
       "  </thead>\n",
       "  <tbody>\n",
       "    <tr>\n",
       "      <th>65800</th>\n",
       "      <td>NaN</td>\n",
       "      <td>1515940589283463168</td>\n",
       "      <td>2022-04-18 06:29:35.000000</td>\n",
       "      <td>Merci #OTAN et #Europe\\nD offrir des esclaves sexuelles blanches ukrainiennes pour satisfaire les colons noirs et arabes\\n@MarleneSchiappa va encore  dire qu il faut aider #migrants et que tous ça c la faute a #Poutine\\n#Ukraine #Islamisme #grandrempl...</td>\n",
       "      <td>[{'text': 'OTAN', 'indices': [6, 11]}, {'text': 'Europe', 'indices': [15, 22]}, {'text': 'migrants', 'indices': [170, 179]}, {'text': 'Poutine', 'indices': [208, 216]}, {'text': 'Ukraine', 'indices': [217, 225]}, {'text': 'Islamisme', 'indices': [226,...</td>\n",
       "      <td>fr</td>\n",
       "    </tr>\n",
       "    <tr>\n",
       "      <th>70914</th>\n",
       "      <td>Paris, France</td>\n",
       "      <td>1515226390685265921</td>\n",
       "      <td>2022-04-16 07:11:37.000000</td>\n",
       "      <td>7...et dans la sénatoriale d'Ohio, JD Vance se fait le champion d'1 défense des travailleurs blancs qui seraient \"remplacés\" par des immigrants clandestins affluant à la frontière mexicaine délaissée pendant que #Biden se préoccupe à tort de l'#Ukrain...</td>\n",
       "      <td>[{'text': 'Biden', 'indices': [212, 218]}, {'text': 'Ukraine', 'indices': [244, 252]}]</td>\n",
       "      <td>fr</td>\n",
       "    </tr>\n",
       "    <tr>\n",
       "      <th>189803</th>\n",
       "      <td>Toulouse (France)</td>\n",
       "      <td>1514966571000737796</td>\n",
       "      <td>2022-04-15 13:59:11.000000</td>\n",
       "      <td>RT @CarodeCamaret: #UE : à l'#Est, tout est pardonné ? Débordés par les fluex de #migrants d'#Ukraine, la #Pologne et le #Hongrie peuvent-ils en oublier l'Etat de droit #libertedelapresse #justice @msojdrova @EPPGroup #Tchèque et @marctarabella @PES_P...</td>\n",
       "      <td>[{'text': 'UE', 'indices': [19, 22]}, {'text': 'Est', 'indices': [29, 33]}, {'text': 'migrants', 'indices': [81, 90]}, {'text': 'Ukraine', 'indices': [93, 101]}, {'text': 'Pologne', 'indices': [106, 114]}, {'text': 'Hongrie', 'indices': [121, 129]}, {...</td>\n",
       "      <td>fr</td>\n",
       "    </tr>\n",
       "    <tr>\n",
       "      <th>135038</th>\n",
       "      <td>Paris, France</td>\n",
       "      <td>1511257641795923975</td>\n",
       "      <td>2022-04-05 08:21:14.000000</td>\n",
       "      <td>Guerre en #Ukraine : des demandeurs d’asile prisonniers au milieu des combats \\n\\nL’ONG Human Rights Watch @hrw alerte sur le sort de #migrants ou #réfugiés, toujours emprisonnés sous le feu des bombes. ⤵\\nhttps://t.co/x6VmvNXANh</td>\n",
       "      <td>[{'text': 'Ukraine', 'indices': [10, 18]}, {'text': 'migrants', 'indices': [132, 141]}, {'text': 'réfugiés', 'indices': [145, 154]}]</td>\n",
       "      <td>fr</td>\n",
       "    </tr>\n",
       "    <tr>\n",
       "      <th>268326</th>\n",
       "      <td>Hérault, Languedoc-Roussillon</td>\n",
       "      <td>1513209348096507906</td>\n",
       "      <td>2022-04-10 17:36:37.000000</td>\n",
       "      <td>💍 42 ans de mariage pour Olga et Oleh, refugiés 🇺🇦 pris en charge par @CroixRouge sur le site d’hébergement mis en place par @montpellier_ @Prefet34 @CroixRouge34. Surprise! Nos équipes leur ont offert un joli 💐, des 🍫 et 1 énooorme 🎂, dégusté avec éq...</td>\n",
       "      <td>[{'text': 'Ukraine', 'indices': [265, 273]}]</td>\n",
       "      <td>fr</td>\n",
       "    </tr>\n",
       "  </tbody>\n",
       "</table>\n",
       "</div>"
      ],
      "text/plain": [
       "                             location              tweetid  \\\n",
       "65800                             NaN  1515940589283463168   \n",
       "70914                   Paris, France  1515226390685265921   \n",
       "189803              Toulouse (France)  1514966571000737796   \n",
       "135038                  Paris, France  1511257641795923975   \n",
       "268326  Hérault, Languedoc-Roussillon  1513209348096507906   \n",
       "\n",
       "                    tweetcreatedts  \\\n",
       "65800   2022-04-18 06:29:35.000000   \n",
       "70914   2022-04-16 07:11:37.000000   \n",
       "189803  2022-04-15 13:59:11.000000   \n",
       "135038  2022-04-05 08:21:14.000000   \n",
       "268326  2022-04-10 17:36:37.000000   \n",
       "\n",
       "                                                                                                                                                                                                                                                                  text  \\\n",
       "65800   Merci #OTAN et #Europe\\nD offrir des esclaves sexuelles blanches ukrainiennes pour satisfaire les colons noirs et arabes\\n@MarleneSchiappa va encore  dire qu il faut aider #migrants et que tous ça c la faute a #Poutine\\n#Ukraine #Islamisme #grandrempl...   \n",
       "70914   7...et dans la sénatoriale d'Ohio, JD Vance se fait le champion d'1 défense des travailleurs blancs qui seraient \"remplacés\" par des immigrants clandestins affluant à la frontière mexicaine délaissée pendant que #Biden se préoccupe à tort de l'#Ukrain...   \n",
       "189803  RT @CarodeCamaret: #UE : à l'#Est, tout est pardonné ? Débordés par les fluex de #migrants d'#Ukraine, la #Pologne et le #Hongrie peuvent-ils en oublier l'Etat de droit #libertedelapresse #justice @msojdrova @EPPGroup #Tchèque et @marctarabella @PES_P...   \n",
       "135038                           Guerre en #Ukraine : des demandeurs d’asile prisonniers au milieu des combats \\n\\nL’ONG Human Rights Watch @hrw alerte sur le sort de #migrants ou #réfugiés, toujours emprisonnés sous le feu des bombes. ⤵\\nhttps://t.co/x6VmvNXANh   \n",
       "268326  💍 42 ans de mariage pour Olga et Oleh, refugiés 🇺🇦 pris en charge par @CroixRouge sur le site d’hébergement mis en place par @montpellier_ @Prefet34 @CroixRouge34. Surprise! Nos équipes leur ont offert un joli 💐, des 🍫 et 1 énooorme 🎂, dégusté avec éq...   \n",
       "\n",
       "                                                                                                                                                                                                                                                              hashtags  \\\n",
       "65800   [{'text': 'OTAN', 'indices': [6, 11]}, {'text': 'Europe', 'indices': [15, 22]}, {'text': 'migrants', 'indices': [170, 179]}, {'text': 'Poutine', 'indices': [208, 216]}, {'text': 'Ukraine', 'indices': [217, 225]}, {'text': 'Islamisme', 'indices': [226,...   \n",
       "70914                                                                                                                                                                           [{'text': 'Biden', 'indices': [212, 218]}, {'text': 'Ukraine', 'indices': [244, 252]}]   \n",
       "189803  [{'text': 'UE', 'indices': [19, 22]}, {'text': 'Est', 'indices': [29, 33]}, {'text': 'migrants', 'indices': [81, 90]}, {'text': 'Ukraine', 'indices': [93, 101]}, {'text': 'Pologne', 'indices': [106, 114]}, {'text': 'Hongrie', 'indices': [121, 129]}, {...   \n",
       "135038                                                                                                                            [{'text': 'Ukraine', 'indices': [10, 18]}, {'text': 'migrants', 'indices': [132, 141]}, {'text': 'réfugiés', 'indices': [145, 154]}]   \n",
       "268326                                                                                                                                                                                                                    [{'text': 'Ukraine', 'indices': [265, 273]}]   \n",
       "\n",
       "       language  \n",
       "65800        fr  \n",
       "70914        fr  \n",
       "189803       fr  \n",
       "135038       fr  \n",
       "268326       fr  "
      ]
     },
     "execution_count": 294,
     "metadata": {},
     "output_type": "execute_result"
    }
   ],
   "source": [
    "ref_fr[['location','tweetid','tweetcreatedts','text','hashtags','language']].sample(5)"
   ]
  },
  {
   "cell_type": "markdown",
   "id": "9ef1cd8b",
   "metadata": {},
   "source": [
    "## 3. Pre-processing for NLP"
   ]
  },
  {
   "cell_type": "markdown",
   "id": "e68d7cce",
   "metadata": {},
   "source": [
    "### Helpers \n"
   ]
  },
  {
   "cell_type": "code",
   "execution_count": 26,
   "id": "5d1d2c06",
   "metadata": {},
   "outputs": [],
   "source": [
    "import re \n",
    "def clean_text(text):\n",
    "    \n",
    "    # remove line breaks\n",
    "    text = text.replace('\\n',' ')\n",
    "    \n",
    "    #remove URLS\n",
    "    urlPattern        = r\"((http://)[^ ]*|(https://)[^ ]*|( www\\.)[^ ]*)\"\n",
    "    text = re.sub(urlPattern,'URL',text)\n",
    "    \n",
    "    # Replace 3 or more consecutive letters by 2 letter.\n",
    "    sequencePattern   = r\"(.)\\1\\1+\"\n",
    "    seqReplacePattern = r\"\\1\\1\"\n",
    "    text = re.sub(sequencePattern, seqReplacePattern, text)\n",
    "    \n",
    "     # Remove ampersand amp name\n",
    "    text = re.sub('&amp;', 'and', text)\n",
    "    \n",
    "    # Remove unwanted symbols but preserve sentence structure by maintaining \"?\" , \",\", \"!\", and \".\" and \"#\"\n",
    "    # Note that this remove cyrilic characters\n",
    "    alphaPattern      = \"[^a-zA-Zàâçéèêëîïôûùüÿñæœ0-9?,!.#]\"\n",
    "    text = re.sub(alphaPattern, ' ', text)\n",
    "    \n",
    "    # Remove lonely # \n",
    "    text = re.sub(' # ', ' ', text)\n",
    "\n",
    "\n",
    "    # remove long multiple whitespaces\n",
    "    text = re.sub(r\"( )\\1\\1+\", ' ', text)\n",
    "    \n",
    "    return text\n",
    "    "
   ]
  },
  {
   "cell_type": "code",
   "execution_count": 27,
   "id": "f2cd8b88",
   "metadata": {},
   "outputs": [
    {
     "data": {
      "text/plain": [
       "38310"
      ]
     },
     "execution_count": 27,
     "metadata": {},
     "output_type": "execute_result"
    }
   ],
   "source": [
    "len(ref_en)"
   ]
  },
  {
   "cell_type": "code",
   "execution_count": 28,
   "id": "89ff7268",
   "metadata": {},
   "outputs": [
    {
     "name": "stderr",
     "output_type": "stream",
     "text": [
      "/opt/anaconda3/envs/ada/lib/python3.8/site-packages/swifter/swifter.py:33: UserWarning: This pandas object has duplicate indices, and swifter may not be able to improve performance. Consider resetting the indices with `df.reset_index(drop=True)`.\n",
      "  warnings.warn(\n"
     ]
    },
    {
     "data": {
      "application/vnd.jupyter.widget-view+json": {
       "model_id": "78e8b10ed6c04fceb3b7a24e7c819b0b",
       "version_major": 2,
       "version_minor": 0
      },
      "text/plain": [
       "Pandas Apply:   0%|          | 0/38310 [00:00<?, ?it/s]"
      ]
     },
     "metadata": {},
     "output_type": "display_data"
    },
    {
     "name": "stderr",
     "output_type": "stream",
     "text": [
      "/var/folders/3v/cd3_rvz10bd1jd08x0c03tpr0000gt/T/ipykernel_4105/1549380104.py:3: SettingWithCopyWarning: \n",
      "A value is trying to be set on a copy of a slice from a DataFrame.\n",
      "Try using .loc[row_indexer,col_indexer] = value instead\n",
      "\n",
      "See the caveats in the documentation: https://pandas.pydata.org/pandas-docs/stable/user_guide/indexing.html#returning-a-view-versus-a-copy\n",
      "  ref_en['text'] = ref_en['text'].swifter.apply(lambda x : clean_text(x))\n"
     ]
    }
   ],
   "source": [
    "# cleaning\n",
    "# english \n",
    "ref_en['text'] = ref_en['text'].swifter.apply(lambda x : clean_text(x))\n",
    "\n",
    "#french\n",
    "#ref_fr['text'] = ref_fr['text'].apply(lambda x : clean_text(x))"
   ]
  },
  {
   "cell_type": "code",
   "execution_count": 29,
   "id": "8deed341",
   "metadata": {},
   "outputs": [],
   "source": [
    "ref_en.to_pickle(gen_data_PATH+'feb_march_refugee_clean.pkl')\n",
    "#ref_en = pd.read_pickle(gen_data_PATH+'ref_en_unique_ref.pkl')"
   ]
  },
  {
   "cell_type": "code",
   "execution_count": 299,
   "id": "f853f7c0",
   "metadata": {},
   "outputs": [],
   "source": [
    "# french \n",
    "ref_fr.to_pickle(gen_data_PATH+'ref_fr_unique_ref.pkl')\n",
    "ref_fr = pd.read_pickle(gen_data_PATH+'ref_fr_unique_ref.pkl')"
   ]
  },
  {
   "cell_type": "code",
   "execution_count": 300,
   "id": "edb05113",
   "metadata": {},
   "outputs": [
    {
     "data": {
      "text/html": [
       "<div>\n",
       "<style scoped>\n",
       "    .dataframe tbody tr th:only-of-type {\n",
       "        vertical-align: middle;\n",
       "    }\n",
       "\n",
       "    .dataframe tbody tr th {\n",
       "        vertical-align: top;\n",
       "    }\n",
       "\n",
       "    .dataframe thead th {\n",
       "        text-align: right;\n",
       "    }\n",
       "</style>\n",
       "<table border=\"1\" class=\"dataframe\">\n",
       "  <thead>\n",
       "    <tr style=\"text-align: right;\">\n",
       "      <th></th>\n",
       "      <th>location</th>\n",
       "      <th>text</th>\n",
       "    </tr>\n",
       "  </thead>\n",
       "  <tbody>\n",
       "    <tr>\n",
       "      <th>328</th>\n",
       "      <td>NaN</td>\n",
       "      <td>Here s the link to our therapeutic tale for #refugee children from #Ukraine. In two language versions  UKR and RUS . PL and ENG translations available. #HelpUkraine  URL  Pleast, please RT</td>\n",
       "    </tr>\n",
       "    <tr>\n",
       "      <th>364</th>\n",
       "      <td>NaN</td>\n",
       "      <td>Russian Nobel peace prize winner sells medal to fund for Ukrainian refugees #StopPutin #StandWithUkraine URL</td>\n",
       "    </tr>\n",
       "    <tr>\n",
       "      <th>482</th>\n",
       "      <td>NaN</td>\n",
       "      <td>I see #ColmOGorman hasn t volunteered to look after, say, two disabled refugees from #Ukraine. Why not? Surly Colm knows how important it is for Secular Saints to lead from the front. He hasn t refused, has he? URL</td>\n",
       "    </tr>\n",
       "    <tr>\n",
       "      <th>706</th>\n",
       "      <td>Floriduh, USA</td>\n",
       "      <td>#IMMIGRATION #Biden Admin lifts #Trump era #Title42 which W.H. admits will create  influx  of #migrants  URL</td>\n",
       "    </tr>\n",
       "    <tr>\n",
       "      <th>859</th>\n",
       "      <td>NaN</td>\n",
       "      <td>A refugee from #Mariupol tells how the AFU #Azov fired at their car with children while they were trying to leave the city. #Ukraine URL</td>\n",
       "    </tr>\n",
       "  </tbody>\n",
       "</table>\n",
       "</div>"
      ],
      "text/plain": [
       "          location  \\\n",
       "328            NaN   \n",
       "364            NaN   \n",
       "482            NaN   \n",
       "706  Floriduh, USA   \n",
       "859            NaN   \n",
       "\n",
       "                                                                                                                                                                                                                       text  \n",
       "328                            Here s the link to our therapeutic tale for #refugee children from #Ukraine. In two language versions  UKR and RUS . PL and ENG translations available. #HelpUkraine  URL  Pleast, please RT  \n",
       "364                                                                                                            Russian Nobel peace prize winner sells medal to fund for Ukrainian refugees #StopPutin #StandWithUkraine URL  \n",
       "482  I see #ColmOGorman hasn t volunteered to look after, say, two disabled refugees from #Ukraine. Why not? Surly Colm knows how important it is for Secular Saints to lead from the front. He hasn t refused, has he? URL  \n",
       "706                                                                                                            #IMMIGRATION #Biden Admin lifts #Trump era #Title42 which W.H. admits will create  influx  of #migrants  URL  \n",
       "859                                                                                A refugee from #Mariupol tells how the AFU #Azov fired at their car with children while they were trying to leave the city. #Ukraine URL  "
      ]
     },
     "execution_count": 300,
     "metadata": {},
     "output_type": "execute_result"
    }
   ],
   "source": [
    "ref_en[['location','text']].head()"
   ]
  },
  {
   "cell_type": "code",
   "execution_count": 57,
   "id": "1bfa661f",
   "metadata": {
    "collapsed": true,
    "jupyter": {
     "outputs_hidden": true
    }
   },
   "outputs": [
    {
     "data": {
      "text/html": [
       "<div>\n",
       "<style scoped>\n",
       "    .dataframe tbody tr th:only-of-type {\n",
       "        vertical-align: middle;\n",
       "    }\n",
       "\n",
       "    .dataframe tbody tr th {\n",
       "        vertical-align: top;\n",
       "    }\n",
       "\n",
       "    .dataframe thead th {\n",
       "        text-align: right;\n",
       "    }\n",
       "</style>\n",
       "<table border=\"1\" class=\"dataframe\">\n",
       "  <thead>\n",
       "    <tr style=\"text-align: right;\">\n",
       "      <th></th>\n",
       "      <th>location</th>\n",
       "      <th>text</th>\n",
       "    </tr>\n",
       "  </thead>\n",
       "  <tbody>\n",
       "    <tr>\n",
       "      <th>31881</th>\n",
       "      <td>NaN</td>\n",
       "      <td>#Exode JC.#Fartoukh #VendrediLecture #FridayReads #Ukraine Brisés,agonisants,au milieu des gravats Ils ont maudit les dieux qui les ont Nous somme tous,potentiellement,des #migrants Nous sommes tous des tresHumains URL #lesecrits URL URL</td>\n",
       "    </tr>\n",
       "    <tr>\n",
       "      <th>106805</th>\n",
       "      <td>NaN</td>\n",
       "      <td>PUBLICATION 2e note du comité d experts en sciences sociales CFDT Fondation  j jaures consacrée aux #migrants, par  marie saglio, Pauline Doyen,  DRouilleault Franceterdasile  et  CfdtBerger  URL #Ukraine #crisesanitaire #réfugiés URL</td>\n",
       "    </tr>\n",
       "    <tr>\n",
       "      <th>121217</th>\n",
       "      <td>Genève, Suisse</td>\n",
       "      <td>En quatre semaines, plus de 3 millions de personnes ont quitté l Ukraine en direction de l espace Schengen. Catherine Guignard Aeby répond à neuf questions sur le statut S.  KPMG CH  #finance #ukraine #refugiés #legal #politique  URL</td>\n",
       "    </tr>\n",
       "    <tr>\n",
       "      <th>125602</th>\n",
       "      <td>Résiste.Prouve que tu existes.</td>\n",
       "      <td>Je suis totalement opposée â la livraison d armes à l #Ukraine et totalement opposée à la livraison de migrants ukrainiens à la France.</td>\n",
       "    </tr>\n",
       "    <tr>\n",
       "      <th>133493</th>\n",
       "      <td>Bordeaux</td>\n",
       "      <td>C est le problème avec les confinements successifs, les gens ont trop pris le plis d être servis à domicile.  #Ukraine #réfugiés #migrants #RacismeDécomplexé #DessinDePresse #cartoonist URL</td>\n",
       "    </tr>\n",
       "  </tbody>\n",
       "</table>\n",
       "</div>"
      ],
      "text/plain": [
       "                              location  \\\n",
       "31881                              NaN   \n",
       "106805                             NaN   \n",
       "121217                  Genève, Suisse   \n",
       "125602  Résiste.Prouve que tu existes.   \n",
       "133493                        Bordeaux   \n",
       "\n",
       "                                                                                                                                                                                                                                                 text  \n",
       "31881   #Exode JC.#Fartoukh #VendrediLecture #FridayReads #Ukraine Brisés,agonisants,au milieu des gravats Ils ont maudit les dieux qui les ont Nous somme tous,potentiellement,des #migrants Nous sommes tous des tresHumains URL #lesecrits URL URL  \n",
       "106805     PUBLICATION 2e note du comité d experts en sciences sociales CFDT Fondation  j jaures consacrée aux #migrants, par  marie saglio, Pauline Doyen,  DRouilleault Franceterdasile  et  CfdtBerger  URL #Ukraine #crisesanitaire #réfugiés URL  \n",
       "121217      En quatre semaines, plus de 3 millions de personnes ont quitté l Ukraine en direction de l espace Schengen. Catherine Guignard Aeby répond à neuf questions sur le statut S.  KPMG CH  #finance #ukraine #refugiés #legal #politique  URL  \n",
       "125602                                                                                                      Je suis totalement opposée â la livraison d armes à l #Ukraine et totalement opposée à la livraison de migrants ukrainiens à la France.    \n",
       "133493                                                  C est le problème avec les confinements successifs, les gens ont trop pris le plis d être servis à domicile.  #Ukraine #réfugiés #migrants #RacismeDécomplexé #DessinDePresse #cartoonist URL  "
      ]
     },
     "execution_count": 57,
     "metadata": {},
     "output_type": "execute_result"
    }
   ],
   "source": [
    "ref_fr[['location','text']].head()"
   ]
  },
  {
   "cell_type": "code",
   "execution_count": 71,
   "id": "dfe6c3d5",
   "metadata": {},
   "outputs": [
    {
     "data": {
      "text/plain": [
       "12630"
      ]
     },
     "execution_count": 71,
     "metadata": {},
     "output_type": "execute_result"
    }
   ],
   "source": [
    "len(ref_en)"
   ]
  },
  {
   "cell_type": "markdown",
   "id": "eec57a53",
   "metadata": {},
   "source": [
    "#### Do we want to de-emojify?\n",
    "#### Do we really want to keep the hashtags?"
   ]
  },
  {
   "cell_type": "markdown",
   "id": "1e0d761f",
   "metadata": {},
   "source": [
    "#### Add swifter"
   ]
  },
  {
   "cell_type": "markdown",
   "id": "16a536ed",
   "metadata": {},
   "source": [
    "### Date distribution\n",
    "Tweet created per day /!\\ not the same as extracted per date"
   ]
  },
  {
   "cell_type": "code",
   "execution_count": 161,
   "id": "cf6c37dc",
   "metadata": {},
   "outputs": [],
   "source": [
    "# to datetime format\n",
    "ref_en['tweetcreatedts'] = pd.to_datetime(ref_en['tweetcreatedts'])\n",
    "ref_fr['tweetcreatedts'] = pd.to_datetime(ref_fr['tweetcreatedts'])"
   ]
  },
  {
   "cell_type": "code",
   "execution_count": 162,
   "id": "644c8707",
   "metadata": {},
   "outputs": [],
   "source": [
    "# data to aggregate \n",
    "ref_eng_agg = ref_en[['tweetcreatedts','userid']]\n",
    "\n",
    "# group data per day and count\n",
    "ref_en_daily_agg= ref_eng_agg.groupby(pd.Grouper(key='tweetcreatedts', axis=0, freq='D')).count()"
   ]
  },
  {
   "cell_type": "code",
   "execution_count": 163,
   "id": "05b511ba",
   "metadata": {},
   "outputs": [
    {
     "data": {
      "text/plain": [
       "Text(0.5, 1.0, 'Daily english Tweets about the refugee crisis')"
      ]
     },
     "execution_count": 163,
     "metadata": {},
     "output_type": "execute_result"
    },
    {
     "data": {
      "image/png": "[encoded data removed]",
      "text/plain": [
       "<Figure size 1152x576 with 1 Axes>"
      ]
     },
     "metadata": {
      "needs_background": "light"
     },
     "output_type": "display_data"
    }
   ],
   "source": [
    "# plot per day \n",
    "ax = ref_en_daily_agg.plot(kind='bar', grid=False, figsize=(16,8), color='#586994', zorder=2, rot=15)\n",
    "ax.set_xlabel('Date of creation',fontsize=22)\n",
    "ax.set_ylabel('Numbers of tweets',fontsize=22)\n",
    "ax.set_title('Daily english Tweets about the refugee crisis',fontsize=22)"
   ]
  },
  {
   "cell_type": "code",
   "execution_count": 164,
   "id": "405d3918",
   "metadata": {},
   "outputs": [],
   "source": [
    "# french \n",
    "\n",
    "# data to aggregate \n",
    "ref_fr_agg = ref_fr[['tweetcreatedts','userid']]\n",
    "\n",
    "# group data per day and count\n",
    "ref_fr_daily_agg= ref_fr_agg.groupby(pd.Grouper(key='tweetcreatedts', axis=0, freq='D')).count()"
   ]
  },
  {
   "cell_type": "code",
   "execution_count": 165,
   "id": "756d5cc5",
   "metadata": {},
   "outputs": [
    {
     "data": {
      "text/plain": [
       "Text(0.5, 1.0, 'Daily french Tweets about the refugee crisis')"
      ]
     },
     "execution_count": 165,
     "metadata": {},
     "output_type": "execute_result"
    },
    {
     "data": {
      "image/png": "[encoded data removed]",
      "text/plain": [
       "<Figure size 1152x576 with 1 Axes>"
      ]
     },
     "metadata": {
      "needs_background": "light"
     },
     "output_type": "display_data"
    }
   ],
   "source": [
    "# plot per day \n",
    "ax = ref_fr_daily_agg.plot(kind='bar', grid=False, figsize=(16,8), color='#586994', zorder=2, rot=15)\n",
    "ax.set_xlabel('Date of creation',fontsize=22)\n",
    "ax.set_ylabel('Numbers of tweets',fontsize=22)\n",
    "ax.set_title('Daily french Tweets about the refugee crisis',fontsize=22)"
   ]
  },
  {
   "cell_type": "markdown",
   "id": "6a632d19",
   "metadata": {},
   "source": [
    "### Location distribution"
   ]
  },
  {
   "cell_type": "code",
   "execution_count": 223,
   "id": "7f5bca64",
   "metadata": {},
   "outputs": [],
   "source": [
    "# string type \n",
    "ref_fr['location']= ref_fr['location'].astype('string')\n",
    "ref_fr['location'].fillna('unknown',inplace=True)\n",
    "\n",
    "ref_en['location']= ref_en['location'].astype('string')\n",
    "ref_en['location'].fillna('unknown',inplace=True)"
   ]
  },
  {
   "cell_type": "code",
   "execution_count": 227,
   "id": "bf90aa6d",
   "metadata": {},
   "outputs": [],
   "source": [
    "# Locations are manually entered, we need to clean them for comparison ('London', 'london', 'london,england' should be grouped together)\n",
    "def clean_location(loc):\n",
    "    loc = loc.lower()\n",
    "    loc_list = loc.split(',')\n",
    "    loc = loc_list[0]\n",
    "    return loc"
   ]
  },
  {
   "cell_type": "code",
   "execution_count": 228,
   "id": "07c13cff",
   "metadata": {},
   "outputs": [
    {
     "data": {
      "text/plain": [
       "'unknown'"
      ]
     },
     "execution_count": 228,
     "metadata": {},
     "output_type": "execute_result"
    }
   ],
   "source": [
    "ref_en['location'].iloc[1].lower()"
   ]
  },
  {
   "cell_type": "code",
   "execution_count": 231,
   "id": "11414e66",
   "metadata": {},
   "outputs": [],
   "source": [
    "ref_en['location'] = ref_en['location'].apply(lambda x: clean_location(x))"
   ]
  },
  {
   "cell_type": "code",
   "execution_count": 232,
   "id": "bd9ca49d",
   "metadata": {},
   "outputs": [
    {
     "data": {
      "text/plain": [
       "Text(0.5, 1.0, 'Location of english tweets about the refugee crisis')"
      ]
     },
     "execution_count": 232,
     "metadata": {},
     "output_type": "execute_result"
    },
    {
     "data": {
      "image/png": "[encoded data removed]",
      "text/plain": [
       "<Figure size 1152x576 with 1 Axes>"
      ]
     },
     "metadata": {
      "needs_background": "light"
     },
     "output_type": "display_data"
    }
   ],
   "source": [
    "# plot \n",
    "ref_en_loc = ref_en.location.value_counts()[:20].plot.bar(figsize = (16,8),rot=45,color='#009384')\n",
    "\n",
    "# parameters\n",
    "ref_en_loc.set_xlabel('Location')\n",
    "ref_en_loc.set_ylabel('Number of tweets')\n",
    "ref_en_loc.set_title('Location of english tweets about the refugee crisis')\n"
   ]
  },
  {
   "cell_type": "code",
   "execution_count": null,
   "id": "0b08d557",
   "metadata": {},
   "outputs": [],
   "source": [
    "# we keep the 20 first locations and group them by regions if they are part of the same region \n",
    "def merge_per_region(location):\n",
    "    new_location = location \n",
    "    \n",
    "    if (location == 'ukraine') or (location == 'kiev'):\n",
    "        new_location = 'ukrania'\n",
    "    \n",
    "    if (location == 'uk') or (location == 'london') or (location =='england'):\n",
    "        new_location = 'united kingdom'\n",
    "    \n",
    "    if (location == 'new york') or (location == 'washington') or (location == 'los angeles') or (location == 'usa'):\n",
    "        new_location = 'ukrania':\n",
    "        new_location = 'united states'\n",
    "        \n",
    "    if (location == 'toronto') :\n",
    "        new_location = 'canada'\n",
    "    \n",
    "     if (location == 'global') :\n",
    "        new_location = 'worldwide'\n",
    "    \n",
    "    return new_location"
   ]
  },
  {
   "cell_type": "code",
   "execution_count": 242,
   "id": "9fa41176",
   "metadata": {},
   "outputs": [
    {
     "data": {
      "text/plain": [
       "Text(0.5, 1.0, 'Location of english tweets about the refugee crisis')"
      ]
     },
     "execution_count": 242,
     "metadata": {},
     "output_type": "execute_result"
    },
    {
     "data": {
      "image/png": "[encoded data removed]",
      "text/plain": [
       "<Figure size 1152x576 with 1 Axes>"
      ]
     },
     "metadata": {
      "needs_background": "light"
     },
     "output_type": "display_data"
    }
   ],
   "source": [
    "# subset without unknwon \n",
    "\n",
    "ref_en_with_loc = ref_en[ref_en['location']!='unknown']\n",
    "# plot \n",
    "plot = ref_en_with_loc.location.value_counts()[:20].plot.bar(figsize = (16,8),rot=45,color='#009384')\n",
    "\n",
    "# parameters\n",
    "plot.set_xlabel('Location')\n",
    "plot.set_ylabel('Number of tweets')\n",
    "plot.set_title('Location of english tweets about the refugee crisis')\n"
   ]
  },
  {
   "cell_type": "code",
   "execution_count": 237,
   "id": "c9819166",
   "metadata": {},
   "outputs": [
    {
     "name": "stdout",
     "output_type": "stream",
     "text": [
      "27.13% of location in the english tweets are unknown.\n"
     ]
    }
   ],
   "source": [
    "unkwn_loc_en = ref_en[ref_en['location']=='unknown']\n",
    "per_unknown_en = len(unkwn_loc_en)/len(ref_en)*100\n",
    "print('{:.4}% of location in the english tweets are unknown.'.format(per_unknown_en))"
   ]
  },
  {
   "cell_type": "code",
   "execution_count": 171,
   "id": "c85900bc",
   "metadata": {},
   "outputs": [
    {
     "data": {
      "text/plain": [
       "Text(0.5, 1.0, 'Location of french tweets about the refugee crisis')"
      ]
     },
     "execution_count": 171,
     "metadata": {},
     "output_type": "execute_result"
    },
    {
     "data": {
      "image/png": "[encoded data removed]",
      "text/plain": [
       "<Figure size 1152x576 with 1 Axes>"
      ]
     },
     "metadata": {
      "needs_background": "light"
     },
     "output_type": "display_data"
    }
   ],
   "source": [
    "# french \n",
    "#ref_fr['location'] = ref_fr[ref_fr['location']== None].apply(lambda x :  x = '')\n",
    "#ref_fr['location'] = ref_fr['location'].apply(lambda x : x.lower)\n",
    "\n",
    "# plot \n",
    "ref_fr_loc = ref_fr.location.value_counts()[:20].plot.bar(figsize = (16,8),rot=45,color='#009384')\n",
    "\n",
    "# parameters\n",
    "ref_en_loc.set_xlabel('Location')\n",
    "ref_en_loc.set_ylabel('Number of tweets')\n",
    "ref_en_loc.set_title('Location of french tweets about the refugee crisis')\n"
   ]
  },
  {
   "cell_type": "markdown",
   "id": "f1f3b294",
   "metadata": {},
   "source": [
    "### Free up resources"
   ]
  },
  {
   "cell_type": "code",
   "execution_count": null,
   "id": "2d9c14f7",
   "metadata": {},
   "outputs": [],
   "source": []
  },
  {
   "cell_type": "markdown",
   "id": "456635fb",
   "metadata": {},
   "source": [
    "### 4. Words frequency"
   ]
  },
  {
   "cell_type": "markdown",
   "id": "a88a0b38",
   "metadata": {},
   "source": [
    "Should we look at bigrams and trigrams?"
   ]
  },
  {
   "cell_type": "code",
   "execution_count": 301,
   "id": "10dc9578",
   "metadata": {},
   "outputs": [],
   "source": [
    "# concatenate all texts cells \n",
    "all_ref_en = ref_en['text'].values.sum()\n",
    "\n",
    "#Export all the tweets of interest in a single text file\n",
    "text_file = open(gen_data_PATH+\"all_tweets_en.txt\", \"w\")\n",
    "text_file.write(all_ref_en)\n",
    "text_file.close()"
   ]
  },
  {
   "cell_type": "code",
   "execution_count": 303,
   "id": "42bb7470",
   "metadata": {},
   "outputs": [],
   "source": [
    "#get rid of common english words\n",
    "en_stopwords = nltk.corpus.stopwords.words('english') #list of words such as a, the, and etc..\n",
    "     \n",
    "\n",
    "# FUNCTION\n",
    "def ngram_frequency(text,stopwords):\n",
    "    '''\n",
    "    Description: Counting the frequency of n-grams in the text\n",
    "    Input: A single string containing the text of interest \n",
    "    Output: List of bigram and their counts in the text in the format ((string,string),integer)\n",
    "    Requirement: Nltk with stopwords, Counter \n",
    "    Use: this function is set to find bigrams, it can be extended for other n-grams\n",
    "    '''\n",
    "    \n",
    "    #separate the text into words \n",
    "    allWords = nltk.tokenize.word_tokenize(text) \n",
    "    \n",
    "    #gets rid on 1-letter words and 2-letters words\n",
    "    allLongWords = []\n",
    "    for word in allWords:\n",
    "        if len(word) > 2: \n",
    "            allLongWords.append(word)   \n",
    "   \n",
    "    allWordExceptStop =[]\n",
    "    for w in allLongWords:\n",
    "        if w.lower() not in stopwords:\n",
    "            allWordExceptStop.append(w)\n",
    "    #create a list of bigrams words in the text. Can be adapted to n-grams zipping more words\n",
    "    onegrams = allWordExceptStop\n",
    "    #calculate the frequency of each bigram \n",
    "    onegramsFreq = nltk.FreqDist(onegrams) \n",
    "    \n",
    "    #bigrams = zip(allWordExceptStop, allWordExceptStop[1:])\n",
    "    #calculate the frequency of each bigram \n",
    "    #bigramsFreq = nltk.FreqDist(bigrams) \n",
    "    return onegramsFreq"
   ]
  },
  {
   "cell_type": "code",
   "execution_count": 306,
   "id": "95e6bd21",
   "metadata": {},
   "outputs": [
    {
     "name": "stdout",
     "output_type": "stream",
     "text": [
      "refugees;10197\n",
      "Ukraine;9795\n",
      "URL;5976\n",
      "Ukrainian;3604\n",
      "refugee;2060\n",
      "war;1979\n",
      "help;1927\n",
      "people;1804\n",
      "Russia;1702\n",
      "support;1547\n"
     ]
    }
   ],
   "source": [
    "# english \n",
    "\n",
    "#Couting onegram frequencies for all articles of interest\n",
    "onegramFreq_en = ngram_frequency(all_ref_en)\n",
    "\n",
    "MAX = 10\n",
    "\n",
    "#Visualize the most common bigrams\n",
    "for word, frequency in onegramFreq_en.most_common(MAX):\n",
    "        print('%s;%d' % (word, frequency))"
   ]
  },
  {
   "cell_type": "code",
   "execution_count": 316,
   "id": "186bbdc2",
   "metadata": {},
   "outputs": [
    {
     "data": {
      "image/png": "[encoded data removed]",
      "text/plain": [
       "<Figure size 432x288 with 1 Axes>"
      ]
     },
     "metadata": {
      "needs_background": "light"
     },
     "output_type": "display_data"
    }
   ],
   "source": [
    "most_com_eng = pd.DataFrame(onegramFreq_en.most_common(MAX)).sort_values(by=[1],ascending=True)\n",
    "plot = most_com_eng.set_index([0]).plot.barh(rot=25,color = '#b85741')\n",
    "\n",
    "# parameters\n",
    "plot.set_xlabel('Number of occurences',fontsize=16)\n",
    "plot.set_ylabel('')\n",
    "plot.set_title('Onegram frequency in the english dataset',fontsize=16)\n",
    "plot.tick_params(axis='x', which='both', labelsize=14)\n",
    "plot.tick_params(axis='y', which='both', labelsize=14)"
   ]
  },
  {
   "cell_type": "markdown",
   "id": "27cc5838",
   "metadata": {},
   "source": [
    "stopwords(, str lower, remove urls,  no emoji, unescape? see https://www.kaggle.com/code/bwandowando/generate-wordcloud-from-english-tweets)"
   ]
  },
  {
   "cell_type": "markdown",
   "id": "6d6a66d7",
   "metadata": {},
   "source": [
    "### ? Do we want to do TOPIC MODELING too?"
   ]
  },
  {
   "cell_type": "markdown",
   "id": "5f407765",
   "metadata": {},
   "source": [
    "### SCRATCH\n",
    "some twitter tips from the assignemetn"
   ]
  },
  {
   "cell_type": "markdown",
   "id": "14f7189c",
   "metadata": {},
   "source": [
    "## OLD FRENCH CODE"
   ]
  },
  {
   "cell_type": "code",
   "execution_count": 302,
   "id": "cea9ced4",
   "metadata": {},
   "outputs": [],
   "source": [
    "# concatenate all texts cells \n",
    "all_ref_fr = ref_fr['text'].values.sum()\n",
    "\n",
    "#Export all the tweets of interest in a single text file\n",
    "text_file = open(gen_data_PATH+\"all_tweets_fr.txt\", \"w\")\n",
    "text_file.write(all_ref_fr)\n",
    "text_file.close()"
   ]
  },
  {
   "cell_type": "code",
   "execution_count": 304,
   "id": "159c2b82",
   "metadata": {},
   "outputs": [
    {
     "name": "stdout",
     "output_type": "stream",
     "text": [
      "les;67\n",
      "migrants;61\n",
      "Ukraine;58\n",
      "URL;49\n",
      "des;46\n",
      "pour;27\n",
      "réfugiés;23\n",
      "que;21\n",
      "sur;20\n",
      "est;18\n"
     ]
    }
   ],
   "source": [
    "# french \n",
    "#Couting bigram frequencies for all articles of interest\n",
    "onegramFreq_fr = ngram_frequency(all_ref_fr)\n",
    "\n",
    "MAX = 10\n",
    "\n",
    "#Visualize the most common bigrams\n",
    "for word, frequency in onegramFreq_fr.most_common(MAX):\n",
    "        print('%s;%d' % (word, frequency))"
   ]
  },
  {
   "cell_type": "code",
   "execution_count": 305,
   "id": "17a2eda1",
   "metadata": {},
   "outputs": [
    {
     "data": {
      "text/plain": [
       "<AxesSubplot:xlabel='0'>"
      ]
     },
     "execution_count": 305,
     "metadata": {},
     "output_type": "execute_result"
    },
    {
     "data": {
      "image/png": "[encoded data removed]",
      "text/plain": [
       "<Figure size 432x288 with 1 Axes>"
      ]
     },
     "metadata": {
      "needs_background": "light"
     },
     "output_type": "display_data"
    }
   ],
   "source": [
    "most_com_fr = pd.DataFrame(onegramFreq_fr.most_common(MAX))\n",
    "most_com_fr.set_index([0]).plot.bar(rot=25)"
   ]
  },
  {
   "cell_type": "code",
   "execution_count": 495,
   "id": "94b48c69",
   "metadata": {},
   "outputs": [
    {
     "data": {
      "text/plain": [
       "Text(0, 0.5, 'Number of tweets')"
      ]
     },
     "execution_count": 495,
     "metadata": {},
     "output_type": "execute_result"
    },
    {
     "data": {
      "image/png": "[encoded data removed]",
      "text/plain": [
       "<Figure size 1296x720 with 1 Axes>"
      ]
     },
     "metadata": {
      "needs_background": "light"
     },
     "output_type": "display_data"
    }
   ],
   "source": [
    "import matplotlib.pyplot as plt\n",
    "# Distribution of language declared in tweet metadata\n",
    "fig,ax = plt.subplots(figsize=(18, 10))\n",
    "plt = data['lang'].hist(figsize=(18,10),bins = 23)\n",
    "ax.set_xlabel('Languages',fontsize =16)\n",
    "ax.set_ylabel('Number of tweets',fontsize =16)\n"
   ]
  },
  {
   "cell_type": "code",
   "execution_count": null,
   "id": "e7088362",
   "metadata": {},
   "outputs": [],
   "source": []
  },
  {
   "cell_type": "code",
   "execution_count": 496,
   "id": "f86b2f70",
   "metadata": {},
   "outputs": [
    {
     "name": "stdout",
     "output_type": "stream",
     "text": [
      "English is 82.89999999999999 percent\n",
      "German is 1.1666666666666667 percent\n",
      "French is 6.953333333333333 percent\n",
      "Italian is 0.18 percent\n",
      "Mandarin chinese is 0.0 percent\n",
      "Mandarin chinese is 0.0 percent\n",
      "Hindi chinese is 0.12 percent\n",
      "Espagnol  is 0.26666666666666666 percent\n",
      "Arabic  is 0.0 percent\n"
     ]
    }
   ],
   "source": [
    "## English\n",
    "eng= len(df[df['lang']=='en'])/(len(df))*100\n",
    "print(f'English is {eng} percent')\n",
    "## German\n",
    "de = len(df[df['lang']=='de'])/(len(df))*100\n",
    "print(f'German is {de} percent')\n",
    "\n",
    "## French\n",
    "de = len(df[df['lang']=='fr'])/(len(df))*100\n",
    "print(f'French is {de} percent')\n",
    "\n",
    "## Italian\n",
    "de = len(df[df['lang']=='it'])/(len(df))*100\n",
    "print(f'Italian is {de} percent')\n",
    "\n",
    "## Mandarin\n",
    "de = len(df[df['lang']=='cmn'])/(len(df))*100\n",
    "print(f'Mandarin chinese is {de} percent')\n",
    "\n",
    "## Mandarin\n",
    "de = len(df[df['lang']=='zh'])/(len(df))*100\n",
    "print(f'Mandarin chinese is {de} percent')\n",
    "\n",
    "\n",
    "## Hindi\n",
    "hi = len(df[df['lang']=='hi'])/(len(df))*100\n",
    "print(f'Hindi chinese is {hi} percent')\n",
    "\n",
    "## Spanish\n",
    "es = len(df[df['lang']=='es'])/(len(df))*100\n",
    "print(f'Espagnol  is {es} percent')\n",
    "\n",
    "\n",
    "## Arabic\n",
    "ar = len(df[df['lang']=='ar'])/(len(df))*100\n",
    "print(f'Arabic  is {ar} percent')"
   ]
  },
  {
   "cell_type": "code",
   "execution_count": 497,
   "id": "78783f3a",
   "metadata": {},
   "outputs": [
    {
     "name": "stdout",
     "output_type": "stream",
     "text": [
      "There are 27 differents languages in our tweets\n",
      " with a majority of english tweets.\n"
     ]
    }
   ],
   "source": [
    "n = len(data['lang'].unique())\n",
    "print(f'There are {n} differents languages in our tweets\\n with a majority of english tweets.')"
   ]
  },
  {
   "cell_type": "code",
   "execution_count": 498,
   "id": "af8f5e2b",
   "metadata": {
    "scrolled": true
   },
   "outputs": [
    {
     "data": {
      "text/html": [
       "<div>\n",
       "<style scoped>\n",
       "    .dataframe tbody tr th:only-of-type {\n",
       "        vertical-align: middle;\n",
       "    }\n",
       "\n",
       "    .dataframe tbody tr th {\n",
       "        vertical-align: top;\n",
       "    }\n",
       "\n",
       "    .dataframe thead th {\n",
       "        text-align: right;\n",
       "    }\n",
       "</style>\n",
       "<table border=\"1\" class=\"dataframe\">\n",
       "  <thead>\n",
       "    <tr style=\"text-align: right;\">\n",
       "      <th></th>\n",
       "      <th>retweeted_status</th>\n",
       "      <th>lang</th>\n",
       "      <th>urls</th>\n",
       "      <th>user_mentions</th>\n",
       "      <th>symbols</th>\n",
       "      <th>media</th>\n",
       "      <th>0</th>\n",
       "      <th>1</th>\n",
       "      <th>2</th>\n",
       "      <th>3</th>\n",
       "      <th>4</th>\n",
       "      <th>5</th>\n",
       "      <th>6</th>\n",
       "      <th>7</th>\n",
       "      <th>8</th>\n",
       "      <th>9</th>\n",
       "      <th>10</th>\n",
       "      <th>11</th>\n",
       "      <th>12</th>\n",
       "    </tr>\n",
       "  </thead>\n",
       "  <tbody>\n",
       "    <tr>\n",
       "      <th>0</th>\n",
       "      <td>{'created_at': 'Sat Apr 09 15:53:40 +0000 2022', 'id': 1512821053201997824, 'id_str': '1512821053201997824', 'text': 'First #beachclean of the year ✅ Around 20 volunteers came &amp;amp;we filled 3 big bags of #PlasticPollution, old fishing g… https://t.co...</td>\n",
       "      <td>en</td>\n",
       "      <td>[]</td>\n",
       "      <td>[{'screen_name': 'LeosAnimalPlan1', 'name': 'Leo's Animal Planet #STOPTHEGRIND 🐬🐳', 'id': 1369998441531727879, 'id_str': '1369998441531727879', 'indices': [3, 19]}]</td>\n",
       "      <td>[]</td>\n",
       "      <td>NaN</td>\n",
       "      <td>{'text': 'beachclean', 'indices': [27, 38]}</td>\n",
       "      <td>{'text': 'PlasticPollution', 'indices': [108, 125]}</td>\n",
       "      <td>NaN</td>\n",
       "      <td>NaN</td>\n",
       "      <td>NaN</td>\n",
       "      <td>NaN</td>\n",
       "      <td>NaN</td>\n",
       "      <td>NaN</td>\n",
       "      <td>NaN</td>\n",
       "      <td>NaN</td>\n",
       "      <td>NaN</td>\n",
       "      <td>NaN</td>\n",
       "      <td>NaN</td>\n",
       "    </tr>\n",
       "    <tr>\n",
       "      <th>1</th>\n",
       "      <td>{'created_at': 'Sat Apr 09 11:25:01 +0000 2022', 'id': 1512753444037304321, 'id_str': '1512753444037304321', 'text': 'With our beautiful pink banner in Hyde Park! #EndFossilFuelsNow #JustStopOil #ClimateCrisis \n",
       "#ActNow… https://t.co/uNV7qN8LGx', 'disp...</td>\n",
       "      <td>en</td>\n",
       "      <td>[]</td>\n",
       "      <td>[{'screen_name': 'XRWorthing', 'name': 'XR Worthing', 'id': 1146461945882664961, 'id_str': '1146461945882664961', 'indices': [3, 14]}]</td>\n",
       "      <td>[]</td>\n",
       "      <td>NaN</td>\n",
       "      <td>{'text': 'EndFossilFuelsNow', 'indices': [61, 79]}</td>\n",
       "      <td>{'text': 'JustStopOil', 'indices': [80, 92]}</td>\n",
       "      <td>{'text': 'ClimateCrisis', 'indices': [93, 107]}</td>\n",
       "      <td>{'text': 'ActNow', 'indices': [109, 116]}</td>\n",
       "      <td>{'text': 'ExtinctionRebellion', 'indices': [117, 137]}</td>\n",
       "      <td>NaN</td>\n",
       "      <td>NaN</td>\n",
       "      <td>NaN</td>\n",
       "      <td>NaN</td>\n",
       "      <td>NaN</td>\n",
       "      <td>NaN</td>\n",
       "      <td>NaN</td>\n",
       "      <td>NaN</td>\n",
       "    </tr>\n",
       "    <tr>\n",
       "      <th>2</th>\n",
       "      <td>NaN</td>\n",
       "      <td>en</td>\n",
       "      <td>[{'url': 'https://t.co/WjIg5MUUWz', 'expanded_url': 'https://twitter.com/i/web/status/1512842167798034438', 'display_url': 'twitter.com/i/web/status/1…', 'indices': [116, 139]}]</td>\n",
       "      <td>[{'screen_name': 'lisamurkowski', 'name': 'Sen. Lisa Murkowski', 'id': 18061669, 'id_str': '18061669', 'indices': [0, 14]}, {'screen_name': 'Sen_JoeManchin', 'name': 'Senator Joe Manchin', 'id': 234374703, 'id_str': '234374703', 'indices': [15, 30]}, ...</td>\n",
       "      <td>[]</td>\n",
       "      <td>NaN</td>\n",
       "      <td>NaN</td>\n",
       "      <td>NaN</td>\n",
       "      <td>NaN</td>\n",
       "      <td>NaN</td>\n",
       "      <td>NaN</td>\n",
       "      <td>NaN</td>\n",
       "      <td>NaN</td>\n",
       "      <td>NaN</td>\n",
       "      <td>NaN</td>\n",
       "      <td>NaN</td>\n",
       "      <td>NaN</td>\n",
       "      <td>NaN</td>\n",
       "      <td>NaN</td>\n",
       "    </tr>\n",
       "    <tr>\n",
       "      <th>3</th>\n",
       "      <td>NaN</td>\n",
       "      <td>en</td>\n",
       "      <td>[{'url': 'https://t.co/8IhHLu4iOD', 'expanded_url': 'https://twitter.com/i/web/status/1512842175842861060', 'display_url': 'twitter.com/i/web/status/1…', 'indices': [116, 139]}]</td>\n",
       "      <td>[{'screen_name': 'edhollett', 'name': 'Edward Hollett', 'id': 17963341, 'id_str': '17963341', 'indices': [0, 10]}]</td>\n",
       "      <td>[]</td>\n",
       "      <td>NaN</td>\n",
       "      <td>{'text': 'BayDuNord', 'indices': [70, 80]}</td>\n",
       "      <td>{'text': 'ClimateChange', 'indices': [93, 107]}</td>\n",
       "      <td>NaN</td>\n",
       "      <td>NaN</td>\n",
       "      <td>NaN</td>\n",
       "      <td>NaN</td>\n",
       "      <td>NaN</td>\n",
       "      <td>NaN</td>\n",
       "      <td>NaN</td>\n",
       "      <td>NaN</td>\n",
       "      <td>NaN</td>\n",
       "      <td>NaN</td>\n",
       "      <td>NaN</td>\n",
       "    </tr>\n",
       "    <tr>\n",
       "      <th>4</th>\n",
       "      <td>{'created_at': 'Fri Mar 25 02:18:43 +0000 2022', 'id': 1507180146285072388, 'id_str': '1507180146285072388', 'text': '@IndivisibleMNLo @GovTimWalz .@IndivisibleMNLo and @WomensMarchMN both stopped their zoom recordings before the wor… https://t.co/E0z...</td>\n",
       "      <td>en</td>\n",
       "      <td>[]</td>\n",
       "      <td>[{'screen_name': 'MNSnarkDept', 'name': 'MN Department Of Snark', 'id': 1418211881337069575, 'id_str': '1418211881337069575', 'indices': [3, 15]}, {'screen_name': 'IndivisibleMNLo', 'name': 'Indivisible MNLeg', 'id': 831517301312733184, 'id_str': '831...</td>\n",
       "      <td>[]</td>\n",
       "      <td>NaN</td>\n",
       "      <td>NaN</td>\n",
       "      <td>NaN</td>\n",
       "      <td>NaN</td>\n",
       "      <td>NaN</td>\n",
       "      <td>NaN</td>\n",
       "      <td>NaN</td>\n",
       "      <td>NaN</td>\n",
       "      <td>NaN</td>\n",
       "      <td>NaN</td>\n",
       "      <td>NaN</td>\n",
       "      <td>NaN</td>\n",
       "      <td>NaN</td>\n",
       "      <td>NaN</td>\n",
       "    </tr>\n",
       "  </tbody>\n",
       "</table>\n",
       "</div>"
      ],
      "text/plain": [
       "                                                                                                                                                                                                                                                 retweeted_status  \\\n",
       "0  {'created_at': 'Sat Apr 09 15:53:40 +0000 2022', 'id': 1512821053201997824, 'id_str': '1512821053201997824', 'text': 'First #beachclean of the year ✅ Around 20 volunteers came &amp;we filled 3 big bags of #PlasticPollution, old fishing g… https://t.co...   \n",
       "1  {'created_at': 'Sat Apr 09 11:25:01 +0000 2022', 'id': 1512753444037304321, 'id_str': '1512753444037304321', 'text': 'With our beautiful pink banner in Hyde Park! #EndFossilFuelsNow #JustStopOil #ClimateCrisis \n",
       "#ActNow… https://t.co/uNV7qN8LGx', 'disp...   \n",
       "2                                                                                                                                                                                                                                                             NaN   \n",
       "3                                                                                                                                                                                                                                                             NaN   \n",
       "4  {'created_at': 'Fri Mar 25 02:18:43 +0000 2022', 'id': 1507180146285072388, 'id_str': '1507180146285072388', 'text': '@IndivisibleMNLo @GovTimWalz .@IndivisibleMNLo and @WomensMarchMN both stopped their zoom recordings before the wor… https://t.co/E0z...   \n",
       "\n",
       "  lang  \\\n",
       "0   en   \n",
       "1   en   \n",
       "2   en   \n",
       "3   en   \n",
       "4   en   \n",
       "\n",
       "                                                                                                                                                                                urls  \\\n",
       "0                                                                                                                                                                                 []   \n",
       "1                                                                                                                                                                                 []   \n",
       "2  [{'url': 'https://t.co/WjIg5MUUWz', 'expanded_url': 'https://twitter.com/i/web/status/1512842167798034438', 'display_url': 'twitter.com/i/web/status/1…', 'indices': [116, 139]}]   \n",
       "3  [{'url': 'https://t.co/8IhHLu4iOD', 'expanded_url': 'https://twitter.com/i/web/status/1512842175842861060', 'display_url': 'twitter.com/i/web/status/1…', 'indices': [116, 139]}]   \n",
       "4                                                                                                                                                                                 []   \n",
       "\n",
       "                                                                                                                                                                                                                                                    user_mentions  \\\n",
       "0                                                                                            [{'screen_name': 'LeosAnimalPlan1', 'name': 'Leo's Animal Planet #STOPTHEGRIND 🐬🐳', 'id': 1369998441531727879, 'id_str': '1369998441531727879', 'indices': [3, 19]}]   \n",
       "1                                                                                                                          [{'screen_name': 'XRWorthing', 'name': 'XR Worthing', 'id': 1146461945882664961, 'id_str': '1146461945882664961', 'indices': [3, 14]}]   \n",
       "2  [{'screen_name': 'lisamurkowski', 'name': 'Sen. Lisa Murkowski', 'id': 18061669, 'id_str': '18061669', 'indices': [0, 14]}, {'screen_name': 'Sen_JoeManchin', 'name': 'Senator Joe Manchin', 'id': 234374703, 'id_str': '234374703', 'indices': [15, 30]}, ...   \n",
       "3                                                                                                                                              [{'screen_name': 'edhollett', 'name': 'Edward Hollett', 'id': 17963341, 'id_str': '17963341', 'indices': [0, 10]}]   \n",
       "4  [{'screen_name': 'MNSnarkDept', 'name': 'MN Department Of Snark', 'id': 1418211881337069575, 'id_str': '1418211881337069575', 'indices': [3, 15]}, {'screen_name': 'IndivisibleMNLo', 'name': 'Indivisible MNLeg', 'id': 831517301312733184, 'id_str': '831...   \n",
       "\n",
       "  symbols media                                                   0  \\\n",
       "0      []   NaN         {'text': 'beachclean', 'indices': [27, 38]}   \n",
       "1      []   NaN  {'text': 'EndFossilFuelsNow', 'indices': [61, 79]}   \n",
       "2      []   NaN                                                 NaN   \n",
       "3      []   NaN          {'text': 'BayDuNord', 'indices': [70, 80]}   \n",
       "4      []   NaN                                                 NaN   \n",
       "\n",
       "                                                     1  \\\n",
       "0  {'text': 'PlasticPollution', 'indices': [108, 125]}   \n",
       "1         {'text': 'JustStopOil', 'indices': [80, 92]}   \n",
       "2                                                  NaN   \n",
       "3      {'text': 'ClimateChange', 'indices': [93, 107]}   \n",
       "4                                                  NaN   \n",
       "\n",
       "                                                 2  \\\n",
       "0                                              NaN   \n",
       "1  {'text': 'ClimateCrisis', 'indices': [93, 107]}   \n",
       "2                                              NaN   \n",
       "3                                              NaN   \n",
       "4                                              NaN   \n",
       "\n",
       "                                           3  \\\n",
       "0                                        NaN   \n",
       "1  {'text': 'ActNow', 'indices': [109, 116]}   \n",
       "2                                        NaN   \n",
       "3                                        NaN   \n",
       "4                                        NaN   \n",
       "\n",
       "                                                        4    5    6    7    8  \\\n",
       "0                                                     NaN  NaN  NaN  NaN  NaN   \n",
       "1  {'text': 'ExtinctionRebellion', 'indices': [117, 137]}  NaN  NaN  NaN  NaN   \n",
       "2                                                     NaN  NaN  NaN  NaN  NaN   \n",
       "3                                                     NaN  NaN  NaN  NaN  NaN   \n",
       "4                                                     NaN  NaN  NaN  NaN  NaN   \n",
       "\n",
       "     9   10   11   12  \n",
       "0  NaN  NaN  NaN  NaN  \n",
       "1  NaN  NaN  NaN  NaN  \n",
       "2  NaN  NaN  NaN  NaN  \n",
       "3  NaN  NaN  NaN  NaN  \n",
       "4  NaN  NaN  NaN  NaN  "
      ]
     },
     "execution_count": 498,
     "metadata": {},
     "output_type": "execute_result"
    }
   ],
   "source": [
    "# Frequency of hashtags\n",
    "hashdata = pd.concat([data.drop(['hashtags'], axis=1), data['hashtags'].apply(pd.Series)], axis=1)\n",
    "hashdata.head()"
   ]
  },
  {
   "cell_type": "code",
   "execution_count": 499,
   "id": "1bf6f6ff",
   "metadata": {},
   "outputs": [],
   "source": [
    "wordsList = []\n",
    "\n",
    "def get_text(i):\n",
    "    if (data.iloc[i]['hashtags']!=None):\n",
    "        text = data.iloc[i]['hashtags'][0]['text'] \n",
    "        #print(text)\n",
    "        wordsList.append(text)\n"
   ]
  },
  {
   "cell_type": "code",
   "execution_count": 500,
   "id": "7d718ad8",
   "metadata": {},
   "outputs": [],
   "source": [
    "get_text(3)"
   ]
  },
  {
   "cell_type": "code",
   "execution_count": 501,
   "id": "50c4b89f",
   "metadata": {},
   "outputs": [
    {
     "data": {
      "text/plain": [
       "['BayDuNord']"
      ]
     },
     "execution_count": 501,
     "metadata": {},
     "output_type": "execute_result"
    }
   ],
   "source": [
    "wordsList"
   ]
  },
  {
   "cell_type": "code",
   "execution_count": 502,
   "id": "c23ca1aa",
   "metadata": {},
   "outputs": [],
   "source": [
    "# counts words for each row\n",
    "for i in range(len(data)):\n",
    "     get_text(i)"
   ]
  },
  {
   "cell_type": "code",
   "execution_count": 504,
   "id": "28bccb72",
   "metadata": {},
   "outputs": [],
   "source": [
    "dic_counts = dict(counts)"
   ]
  },
  {
   "cell_type": "code",
   "execution_count": 505,
   "id": "25533449",
   "metadata": {},
   "outputs": [
    {
     "data": {
      "text/html": [
       "<div>\n",
       "<style scoped>\n",
       "    .dataframe tbody tr th:only-of-type {\n",
       "        vertical-align: middle;\n",
       "    }\n",
       "\n",
       "    .dataframe tbody tr th {\n",
       "        vertical-align: top;\n",
       "    }\n",
       "\n",
       "    .dataframe thead th {\n",
       "        text-align: right;\n",
       "    }\n",
       "</style>\n",
       "<table border=\"1\" class=\"dataframe\">\n",
       "  <thead>\n",
       "    <tr style=\"text-align: right;\">\n",
       "      <th></th>\n",
       "      <th>0</th>\n",
       "    </tr>\n",
       "  </thead>\n",
       "  <tbody>\n",
       "    <tr>\n",
       "      <th>BayDuNord</th>\n",
       "      <td>3</td>\n",
       "    </tr>\n",
       "    <tr>\n",
       "      <th>beachclean</th>\n",
       "      <td>4</td>\n",
       "    </tr>\n",
       "    <tr>\n",
       "      <th>EndFossilFuelsNow</th>\n",
       "      <td>3</td>\n",
       "    </tr>\n",
       "    <tr>\n",
       "      <th>ExtinctionRebellion</th>\n",
       "      <td>32</td>\n",
       "    </tr>\n",
       "    <tr>\n",
       "      <th>ClimateCrisis</th>\n",
       "      <td>2194</td>\n",
       "    </tr>\n",
       "  </tbody>\n",
       "</table>\n",
       "</div>"
      ],
      "text/plain": [
       "                        0\n",
       "BayDuNord               3\n",
       "beachclean              4\n",
       "EndFossilFuelsNow       3\n",
       "ExtinctionRebellion    32\n",
       "ClimateCrisis        2194"
      ]
     },
     "execution_count": 505,
     "metadata": {},
     "output_type": "execute_result"
    }
   ],
   "source": [
    "values = pd.DataFrame.from_dict(dic_counts,orient='index')\n",
    "values.head()"
   ]
  },
  {
   "cell_type": "code",
   "execution_count": 506,
   "id": "27b06475",
   "metadata": {},
   "outputs": [
    {
     "data": {
      "text/html": [
       "<div>\n",
       "<style scoped>\n",
       "    .dataframe tbody tr th:only-of-type {\n",
       "        vertical-align: middle;\n",
       "    }\n",
       "\n",
       "    .dataframe tbody tr th {\n",
       "        vertical-align: top;\n",
       "    }\n",
       "\n",
       "    .dataframe thead th {\n",
       "        text-align: right;\n",
       "    }\n",
       "</style>\n",
       "<table border=\"1\" class=\"dataframe\">\n",
       "  <thead>\n",
       "    <tr style=\"text-align: right;\">\n",
       "      <th></th>\n",
       "      <th>Frequency</th>\n",
       "    </tr>\n",
       "  </thead>\n",
       "  <tbody>\n",
       "    <tr>\n",
       "      <th>ClimateCrisis</th>\n",
       "      <td>2194</td>\n",
       "    </tr>\n",
       "    <tr>\n",
       "      <th>LetTheEarthBreath</th>\n",
       "      <td>1158</td>\n",
       "    </tr>\n",
       "    <tr>\n",
       "      <th>GIEC</th>\n",
       "      <td>536</td>\n",
       "    </tr>\n",
       "    <tr>\n",
       "      <th>climatechange</th>\n",
       "      <td>511</td>\n",
       "    </tr>\n",
       "    <tr>\n",
       "      <th>IPCC</th>\n",
       "      <td>260</td>\n",
       "    </tr>\n",
       "    <tr>\n",
       "      <th>...</th>\n",
       "      <td>...</td>\n",
       "    </tr>\n",
       "    <tr>\n",
       "      <th>LNP</th>\n",
       "      <td>1</td>\n",
       "    </tr>\n",
       "    <tr>\n",
       "      <th>CoalBaronBlockade</th>\n",
       "      <td>1</td>\n",
       "    </tr>\n",
       "    <tr>\n",
       "      <th>Netflix</th>\n",
       "      <td>1</td>\n",
       "    </tr>\n",
       "    <tr>\n",
       "      <th>Asian</th>\n",
       "      <td>1</td>\n",
       "    </tr>\n",
       "    <tr>\n",
       "      <th>SaveTheDate</th>\n",
       "      <td>1</td>\n",
       "    </tr>\n",
       "  </tbody>\n",
       "</table>\n",
       "<p>792 rows × 1 columns</p>\n",
       "</div>"
      ],
      "text/plain": [
       "                   Frequency\n",
       "ClimateCrisis           2194\n",
       "LetTheEarthBreath       1158\n",
       "GIEC                     536\n",
       "climatechange            511\n",
       "IPCC                     260\n",
       "...                      ...\n",
       "LNP                        1\n",
       "CoalBaronBlockade          1\n",
       "Netflix                    1\n",
       "Asian                      1\n",
       "SaveTheDate                1\n",
       "\n",
       "[792 rows x 1 columns]"
      ]
     },
     "execution_count": 506,
     "metadata": {},
     "output_type": "execute_result"
    }
   ],
   "source": [
    "values = values.rename(columns={0:'Frequency'})\n",
    "values = values.sort_values('Frequency',ascending=False)\n",
    "values"
   ]
  },
  {
   "cell_type": "code",
   "execution_count": 507,
   "id": "644cdeba",
   "metadata": {},
   "outputs": [],
   "source": [
    "values['Rank'] = np.arange(values.shape[0])"
   ]
  },
  {
   "cell_type": "code",
   "execution_count": 508,
   "id": "09443de9",
   "metadata": {},
   "outputs": [
    {
     "data": {
      "text/html": [
       "<div>\n",
       "<style scoped>\n",
       "    .dataframe tbody tr th:only-of-type {\n",
       "        vertical-align: middle;\n",
       "    }\n",
       "\n",
       "    .dataframe tbody tr th {\n",
       "        vertical-align: top;\n",
       "    }\n",
       "\n",
       "    .dataframe thead th {\n",
       "        text-align: right;\n",
       "    }\n",
       "</style>\n",
       "<table border=\"1\" class=\"dataframe\">\n",
       "  <thead>\n",
       "    <tr style=\"text-align: right;\">\n",
       "      <th></th>\n",
       "      <th>Frequency</th>\n",
       "      <th>Rank</th>\n",
       "    </tr>\n",
       "    <tr>\n",
       "      <th>Hashtags</th>\n",
       "      <th></th>\n",
       "      <th></th>\n",
       "    </tr>\n",
       "  </thead>\n",
       "  <tbody>\n",
       "    <tr>\n",
       "      <th>ClimateCrisis</th>\n",
       "      <td>2194</td>\n",
       "      <td>0</td>\n",
       "    </tr>\n",
       "    <tr>\n",
       "      <th>LetTheEarthBreath</th>\n",
       "      <td>1158</td>\n",
       "      <td>1</td>\n",
       "    </tr>\n",
       "    <tr>\n",
       "      <th>GIEC</th>\n",
       "      <td>536</td>\n",
       "      <td>2</td>\n",
       "    </tr>\n",
       "    <tr>\n",
       "      <th>climatechange</th>\n",
       "      <td>511</td>\n",
       "      <td>3</td>\n",
       "    </tr>\n",
       "    <tr>\n",
       "      <th>IPCC</th>\n",
       "      <td>260</td>\n",
       "      <td>4</td>\n",
       "    </tr>\n",
       "    <tr>\n",
       "      <th>...</th>\n",
       "      <td>...</td>\n",
       "      <td>...</td>\n",
       "    </tr>\n",
       "    <tr>\n",
       "      <th>LNP</th>\n",
       "      <td>1</td>\n",
       "      <td>787</td>\n",
       "    </tr>\n",
       "    <tr>\n",
       "      <th>CoalBaronBlockade</th>\n",
       "      <td>1</td>\n",
       "      <td>788</td>\n",
       "    </tr>\n",
       "    <tr>\n",
       "      <th>Netflix</th>\n",
       "      <td>1</td>\n",
       "      <td>789</td>\n",
       "    </tr>\n",
       "    <tr>\n",
       "      <th>Asian</th>\n",
       "      <td>1</td>\n",
       "      <td>790</td>\n",
       "    </tr>\n",
       "    <tr>\n",
       "      <th>SaveTheDate</th>\n",
       "      <td>1</td>\n",
       "      <td>791</td>\n",
       "    </tr>\n",
       "  </tbody>\n",
       "</table>\n",
       "<p>792 rows × 2 columns</p>\n",
       "</div>"
      ],
      "text/plain": [
       "                   Frequency  Rank\n",
       "Hashtags                          \n",
       "ClimateCrisis           2194     0\n",
       "LetTheEarthBreath       1158     1\n",
       "GIEC                     536     2\n",
       "climatechange            511     3\n",
       "IPCC                     260     4\n",
       "...                      ...   ...\n",
       "LNP                        1   787\n",
       "CoalBaronBlockade          1   788\n",
       "Netflix                    1   789\n",
       "Asian                      1   790\n",
       "SaveTheDate                1   791\n",
       "\n",
       "[792 rows x 2 columns]"
      ]
     },
     "execution_count": 508,
     "metadata": {},
     "output_type": "execute_result"
    }
   ],
   "source": [
    "values.index.name = 'Hashtags'\n",
    "values"
   ]
  },
  {
   "cell_type": "code",
   "execution_count": 509,
   "id": "6638967f",
   "metadata": {},
   "outputs": [],
   "source": [
    "values.reset_index(inplace=True)"
   ]
  },
  {
   "cell_type": "code",
   "execution_count": 510,
   "id": "c5a2d7e8",
   "metadata": {},
   "outputs": [],
   "source": [
    "values.drop(columns = ['Rank'],inplace=True)"
   ]
  },
  {
   "cell_type": "code",
   "execution_count": 511,
   "id": "abd92cc1",
   "metadata": {},
   "outputs": [
    {
     "data": {
      "text/html": [
       "<div>\n",
       "<style scoped>\n",
       "    .dataframe tbody tr th:only-of-type {\n",
       "        vertical-align: middle;\n",
       "    }\n",
       "\n",
       "    .dataframe tbody tr th {\n",
       "        vertical-align: top;\n",
       "    }\n",
       "\n",
       "    .dataframe thead th {\n",
       "        text-align: right;\n",
       "    }\n",
       "</style>\n",
       "<table border=\"1\" class=\"dataframe\">\n",
       "  <thead>\n",
       "    <tr style=\"text-align: right;\">\n",
       "      <th></th>\n",
       "      <th>Hashtags</th>\n",
       "      <th>Frequency</th>\n",
       "    </tr>\n",
       "    <tr>\n",
       "      <th># Rank</th>\n",
       "      <th></th>\n",
       "      <th></th>\n",
       "    </tr>\n",
       "  </thead>\n",
       "  <tbody>\n",
       "    <tr>\n",
       "      <th>0</th>\n",
       "      <td>ClimateCrisis</td>\n",
       "      <td>2194</td>\n",
       "    </tr>\n",
       "    <tr>\n",
       "      <th>1</th>\n",
       "      <td>LetTheEarthBreath</td>\n",
       "      <td>1158</td>\n",
       "    </tr>\n",
       "    <tr>\n",
       "      <th>2</th>\n",
       "      <td>GIEC</td>\n",
       "      <td>536</td>\n",
       "    </tr>\n",
       "    <tr>\n",
       "      <th>3</th>\n",
       "      <td>climatechange</td>\n",
       "      <td>511</td>\n",
       "    </tr>\n",
       "    <tr>\n",
       "      <th>4</th>\n",
       "      <td>IPCC</td>\n",
       "      <td>260</td>\n",
       "    </tr>\n",
       "    <tr>\n",
       "      <th>5</th>\n",
       "      <td>COP26</td>\n",
       "      <td>247</td>\n",
       "    </tr>\n",
       "    <tr>\n",
       "      <th>6</th>\n",
       "      <td>ClimateChange</td>\n",
       "      <td>192</td>\n",
       "    </tr>\n",
       "    <tr>\n",
       "      <th>7</th>\n",
       "      <td>ClimateAction</td>\n",
       "      <td>186</td>\n",
       "    </tr>\n",
       "    <tr>\n",
       "      <th>8</th>\n",
       "      <td>scientistprotest</td>\n",
       "      <td>154</td>\n",
       "    </tr>\n",
       "    <tr>\n",
       "      <th>9</th>\n",
       "      <td>LetTheEarthBreathe</td>\n",
       "      <td>137</td>\n",
       "    </tr>\n",
       "    <tr>\n",
       "      <th>10</th>\n",
       "      <td>climat</td>\n",
       "      <td>115</td>\n",
       "    </tr>\n",
       "    <tr>\n",
       "      <th>11</th>\n",
       "      <td>solar</td>\n",
       "      <td>87</td>\n",
       "    </tr>\n",
       "    <tr>\n",
       "      <th>12</th>\n",
       "      <td>ClimateEmergency</td>\n",
       "      <td>75</td>\n",
       "    </tr>\n",
       "    <tr>\n",
       "      <th>13</th>\n",
       "      <td>ClimateActionNow</td>\n",
       "      <td>62</td>\n",
       "    </tr>\n",
       "    <tr>\n",
       "      <th>14</th>\n",
       "      <td>climate</td>\n",
       "      <td>53</td>\n",
       "    </tr>\n",
       "    <tr>\n",
       "      <th>15</th>\n",
       "      <td>ClimateReport</td>\n",
       "      <td>51</td>\n",
       "    </tr>\n",
       "    <tr>\n",
       "      <th>16</th>\n",
       "      <td>Scientistprotest</td>\n",
       "      <td>43</td>\n",
       "    </tr>\n",
       "    <tr>\n",
       "      <th>17</th>\n",
       "      <td>climatecrisis</td>\n",
       "      <td>37</td>\n",
       "    </tr>\n",
       "    <tr>\n",
       "      <th>18</th>\n",
       "      <td>ActOnClimate</td>\n",
       "      <td>36</td>\n",
       "    </tr>\n",
       "    <tr>\n",
       "      <th>19</th>\n",
       "      <td>spreadawareness</td>\n",
       "      <td>35</td>\n",
       "    </tr>\n",
       "    <tr>\n",
       "      <th>20</th>\n",
       "      <td>Climatechange</td>\n",
       "      <td>34</td>\n",
       "    </tr>\n",
       "    <tr>\n",
       "      <th>21</th>\n",
       "      <td>SaveSoil</td>\n",
       "      <td>33</td>\n",
       "    </tr>\n",
       "    <tr>\n",
       "      <th>22</th>\n",
       "      <td>ExtinctionRebellion</td>\n",
       "      <td>32</td>\n",
       "    </tr>\n",
       "    <tr>\n",
       "      <th>23</th>\n",
       "      <td>FridaysForFuture</td>\n",
       "      <td>29</td>\n",
       "    </tr>\n",
       "    <tr>\n",
       "      <th>24</th>\n",
       "      <td>ClimateJustice</td>\n",
       "      <td>26</td>\n",
       "    </tr>\n",
       "    <tr>\n",
       "      <th>25</th>\n",
       "      <td>climateaction</td>\n",
       "      <td>25</td>\n",
       "    </tr>\n",
       "    <tr>\n",
       "      <th>26</th>\n",
       "      <td>savetheearth</td>\n",
       "      <td>24</td>\n",
       "    </tr>\n",
       "    <tr>\n",
       "      <th>27</th>\n",
       "      <td>auspol</td>\n",
       "      <td>20</td>\n",
       "    </tr>\n",
       "    <tr>\n",
       "      <th>28</th>\n",
       "      <td>FossilFuels</td>\n",
       "      <td>19</td>\n",
       "    </tr>\n",
       "    <tr>\n",
       "      <th>29</th>\n",
       "      <td>ElectricVehicles</td>\n",
       "      <td>19</td>\n",
       "    </tr>\n",
       "  </tbody>\n",
       "</table>\n",
       "</div>"
      ],
      "text/plain": [
       "                   Hashtags  Frequency\n",
       "# Rank                                \n",
       "0             ClimateCrisis       2194\n",
       "1         LetTheEarthBreath       1158\n",
       "2                      GIEC        536\n",
       "3             climatechange        511\n",
       "4                      IPCC        260\n",
       "5                     COP26        247\n",
       "6             ClimateChange        192\n",
       "7             ClimateAction        186\n",
       "8          scientistprotest        154\n",
       "9        LetTheEarthBreathe        137\n",
       "10                   climat        115\n",
       "11                    solar         87\n",
       "12         ClimateEmergency         75\n",
       "13         ClimateActionNow         62\n",
       "14                  climate         53\n",
       "15            ClimateReport         51\n",
       "16         Scientistprotest         43\n",
       "17            climatecrisis         37\n",
       "18             ActOnClimate         36\n",
       "19          spreadawareness         35\n",
       "20            Climatechange         34\n",
       "21                 SaveSoil         33\n",
       "22      ExtinctionRebellion         32\n",
       "23         FridaysForFuture         29\n",
       "24           ClimateJustice         26\n",
       "25            climateaction         25\n",
       "26             savetheearth         24\n",
       "27                   auspol         20\n",
       "28              FossilFuels         19\n",
       "29         ElectricVehicles         19"
      ]
     },
     "execution_count": 511,
     "metadata": {},
     "output_type": "execute_result"
    }
   ],
   "source": [
    "values.index.name = '# Rank'\n",
    "values.head(30)"
   ]
  },
  {
   "cell_type": "code",
   "execution_count": 512,
   "id": "a50f48b3",
   "metadata": {},
   "outputs": [
    {
     "data": {
      "text/plain": [
       "'Hashtags,Frequency\\nClimateCrisis,2194\\nLetTheEarthBreath,1158\\nGIEC,536\\nclimatechange,511\\nIPCC,260\\nCOP26,247\\nClimateChange,192\\nClimateAction,186\\nscientistprotest,154\\nLetTheEarthBreathe,137\\nclimat,115\\nsolar,87\\nClimateEmergency,75\\nClimateActionNow,62\\nclimate,53\\nClimateReport,51\\nScientistprotest,43\\nclimatecrisis,37\\nActOnClimate,36\\nspreadawareness,35\\nClimatechange,34\\nSaveSoil,33\\nExtinctionRebellion,32\\nFridaysForFuture,29\\nClimateJustice,26\\nclimateaction,25\\nsavetheearth,24\\nauspol,20\\nFossilFuels,19\\nElectricVehicles,19\\n'"
      ]
     },
     "execution_count": 512,
     "metadata": {},
     "output_type": "execute_result"
    }
   ],
   "source": [
    "values.head(30).to_csv(index=False)"
   ]
  },
  {
   "cell_type": "markdown",
   "id": "b16a85ac",
   "metadata": {},
   "source": [
    "## 5. Handles"
   ]
  },
  {
   "cell_type": "code",
   "execution_count": 513,
   "id": "a27dcdbd",
   "metadata": {
    "collapsed": true,
    "jupyter": {
     "outputs_hidden": true
    },
    "tags": []
   },
   "outputs": [
    {
     "data": {
      "text/plain": [
       "['@nytimes',\n",
       " '@TelegraphNews',\n",
       " '@GuardianNews',\n",
       " '@Newsweek',\n",
       " '@BBCAfrica',\n",
       " '@Independent',\n",
       " '@FRANCE24',\n",
       " '@CNBC',\n",
       " '@politico',\n",
       " '@SkyNewsBreak',\n",
       " '@AJENews',\n",
       " '@FT',\n",
       " '@BreakingNew',\n",
       " '@SkyNews',\n",
       " '@NDTVFeed',\n",
       " '@guardian',\n",
       " '@HuffPost',\n",
       " '@XHNews',\n",
       " '@AP',\n",
       " '@ABC']"
      ]
     },
     "execution_count": 513,
     "metadata": {},
     "output_type": "execute_result"
    }
   ],
   "source": [
    "# Percentage of tweets directly generated by all the 20 media accounts\n",
    "#together.\n",
    "media_list"
   ]
  },
  {
   "cell_type": "code",
   "execution_count": 514,
   "id": "dc150d11",
   "metadata": {},
   "outputs": [],
   "source": [
    "#get user data into a data frame \n",
    "def get_user(i):\n",
    "    if (df.iloc[i]['user']!=None):\n",
    "        name = df.iloc[i]['user']['name'] \n",
    "        return name\n"
   ]
  },
  {
   "cell_type": "code",
   "execution_count": 515,
   "id": "b0b0f4b2",
   "metadata": {},
   "outputs": [],
   "source": [
    "df['username'] = df['user'].apply(lambda x: x['name'])"
   ]
  },
  {
   "cell_type": "code",
   "execution_count": 516,
   "id": "fbf3f65b",
   "metadata": {},
   "outputs": [
    {
     "data": {
      "text/html": [
       "<div>\n",
       "<style scoped>\n",
       "    .dataframe tbody tr th:only-of-type {\n",
       "        vertical-align: middle;\n",
       "    }\n",
       "\n",
       "    .dataframe tbody tr th {\n",
       "        vertical-align: top;\n",
       "    }\n",
       "\n",
       "    .dataframe thead th {\n",
       "        text-align: right;\n",
       "    }\n",
       "</style>\n",
       "<table border=\"1\" class=\"dataframe\">\n",
       "  <thead>\n",
       "    <tr style=\"text-align: right;\">\n",
       "      <th></th>\n",
       "      <th>id</th>\n",
       "      <th>text</th>\n",
       "      <th>username</th>\n",
       "    </tr>\n",
       "  </thead>\n",
       "  <tbody>\n",
       "    <tr>\n",
       "      <th>0</th>\n",
       "      <td>1512842143336910849</td>\n",
       "      <td>RT @LeosAnimalPlan1: First #beachclean of the year ✅ Around 20 volunteers came &amp;amp;we filled 3 big bags of #PlasticPollution, old fishing gear…</td>\n",
       "      <td>Pam Sharman 🌻🌻🌻🌻🇺🇦🇺🇦🇺🇦🌠🌠</td>\n",
       "    </tr>\n",
       "    <tr>\n",
       "      <th>1</th>\n",
       "      <td>1512842152811937795</td>\n",
       "      <td>RT @XRWorthing: With our beautiful pink banner in Hyde Park! #EndFossilFuelsNow #JustStopOil #ClimateCrisis \\n#ActNow #ExtinctionRebellion h…</td>\n",
       "      <td>Things have to change! - Rejoin &amp; Reform</td>\n",
       "    </tr>\n",
       "    <tr>\n",
       "      <th>2</th>\n",
       "      <td>1512842167798034438</td>\n",
       "      <td>@lisamurkowski @Sen_JoeManchin @AESymposium Here’s a big idea:\\nDeclare your support for making the Arctic a Global… https://t.co/WjIg5MUUWz</td>\n",
       "      <td>salty seadude 🇺🇸Defend Democracy &amp; Environment</td>\n",
       "    </tr>\n",
       "    <tr>\n",
       "      <th>3</th>\n",
       "      <td>1512842175842861060</td>\n",
       "      <td>@edhollett You ARE wrong. We need to stop using fossil fuels now.\\nBDN #BayDuNord will add to #ClimateChange.\\n\\nMost… https://t.co/8IhHLu4iOD</td>\n",
       "      <td>Mark Dolore</td>\n",
       "    </tr>\n",
       "    <tr>\n",
       "      <th>4</th>\n",
       "      <td>1512842180154773505</td>\n",
       "      <td>RT @MNSnarkDept: @IndivisibleMNLo @GovTimWalz .@IndivisibleMNLo and @WomensMarchMN both stopped their zoom recordings before the worst of w…</td>\n",
       "      <td>Joni Skibo/LaCroix❤️🇺🇦💪</td>\n",
       "    </tr>\n",
       "    <tr>\n",
       "      <th>...</th>\n",
       "      <td>...</td>\n",
       "      <td>...</td>\n",
       "      <td>...</td>\n",
       "    </tr>\n",
       "    <tr>\n",
       "      <th>995</th>\n",
       "      <td>1514604074091495439</td>\n",
       "      <td>RT @JimGumboc: Why did they arrest the scientists for speaking up? This quote from Don't Look UP is so apt:\\n“How is it criminal if we just…</td>\n",
       "      <td>liu qingge's</td>\n",
       "    </tr>\n",
       "    <tr>\n",
       "      <th>996</th>\n",
       "      <td>1514604074297344000</td>\n",
       "      <td>https://t.co/38fObpZyDU</td>\n",
       "      <td>‼️ LET THE EARTH BREATH ‼️</td>\n",
       "    </tr>\n",
       "    <tr>\n",
       "      <th>997</th>\n",
       "      <td>1514604074599034881</td>\n",
       "      <td>@_GlobalCrisis_ I'm afraid to imagine the magnitude of the consequences of a 10-ball #earthquake in #Japan, in a ci… https://t.co/by7fhBz8br</td>\n",
       "      <td>Vieda</td>\n",
       "    </tr>\n",
       "    <tr>\n",
       "      <th>998</th>\n",
       "      <td>1514604075102339078</td>\n",
       "      <td>RT @LHS4LIF3R: “What can we do to help as a normal person?” #LetTheEarthBreath #ScientistRebellion #scientistsprotest #ClimateCrisis /c htt…</td>\n",
       "      <td>🍓L(ia) ≷ Cas</td>\n",
       "    </tr>\n",
       "    <tr>\n",
       "      <th>999</th>\n",
       "      <td>1514604075551055875</td>\n",
       "      <td>RT @ksnoue: here are some ways to help!!\\n\\n#LetTheEarthBreath \\n#scientistprotest \\n#ClimateCrisis https://t.co/MPBGYax8ty</td>\n",
       "      <td>soleil 🫧 let the earth breathe</td>\n",
       "    </tr>\n",
       "  </tbody>\n",
       "</table>\n",
       "<p>15000 rows × 3 columns</p>\n",
       "</div>"
      ],
      "text/plain": [
       "                      id  \\\n",
       "0    1512842143336910849   \n",
       "1    1512842152811937795   \n",
       "2    1512842167798034438   \n",
       "3    1512842175842861060   \n",
       "4    1512842180154773505   \n",
       "..                   ...   \n",
       "995  1514604074091495439   \n",
       "996  1514604074297344000   \n",
       "997  1514604074599034881   \n",
       "998  1514604075102339078   \n",
       "999  1514604075551055875   \n",
       "\n",
       "                                                                                                                                                 text  \\\n",
       "0    RT @LeosAnimalPlan1: First #beachclean of the year ✅ Around 20 volunteers came &amp;we filled 3 big bags of #PlasticPollution, old fishing gear…   \n",
       "1       RT @XRWorthing: With our beautiful pink banner in Hyde Park! #EndFossilFuelsNow #JustStopOil #ClimateCrisis \\n#ActNow #ExtinctionRebellion h…   \n",
       "2        @lisamurkowski @Sen_JoeManchin @AESymposium Here’s a big idea:\\nDeclare your support for making the Arctic a Global… https://t.co/WjIg5MUUWz   \n",
       "3      @edhollett You ARE wrong. We need to stop using fossil fuels now.\\nBDN #BayDuNord will add to #ClimateChange.\\n\\nMost… https://t.co/8IhHLu4iOD   \n",
       "4        RT @MNSnarkDept: @IndivisibleMNLo @GovTimWalz .@IndivisibleMNLo and @WomensMarchMN both stopped their zoom recordings before the worst of w…   \n",
       "..                                                                                                                                                ...   \n",
       "995      RT @JimGumboc: Why did they arrest the scientists for speaking up? This quote from Don't Look UP is so apt:\\n“How is it criminal if we just…   \n",
       "996                                                                                                                           https://t.co/38fObpZyDU   \n",
       "997      @_GlobalCrisis_ I'm afraid to imagine the magnitude of the consequences of a 10-ball #earthquake in #Japan, in a ci… https://t.co/by7fhBz8br   \n",
       "998      RT @LHS4LIF3R: “What can we do to help as a normal person?” #LetTheEarthBreath #ScientistRebellion #scientistsprotest #ClimateCrisis /c htt…   \n",
       "999                       RT @ksnoue: here are some ways to help!!\\n\\n#LetTheEarthBreath \\n#scientistprotest \\n#ClimateCrisis https://t.co/MPBGYax8ty   \n",
       "\n",
       "                                           username  \n",
       "0                          Pam Sharman 🌻🌻🌻🌻🇺🇦🇺🇦🇺🇦🌠🌠  \n",
       "1          Things have to change! - Rejoin & Reform  \n",
       "2    salty seadude 🇺🇸Defend Democracy & Environment  \n",
       "3                                       Mark Dolore  \n",
       "4                           Joni Skibo/LaCroix❤️🇺🇦💪  \n",
       "..                                              ...  \n",
       "995                                    liu qingge's  \n",
       "996                      ‼️ LET THE EARTH BREATH ‼️  \n",
       "997                                           Vieda  \n",
       "998                                    🍓L(ia) ≷ Cas  \n",
       "999                  soleil 🫧 let the earth breathe  \n",
       "\n",
       "[15000 rows x 3 columns]"
      ]
     },
     "execution_count": 516,
     "metadata": {},
     "output_type": "execute_result"
    }
   ],
   "source": [
    "df[['id','text','username']]"
   ]
  },
  {
   "cell_type": "code",
   "execution_count": 517,
   "id": "115e344e",
   "metadata": {},
   "outputs": [
    {
     "data": {
      "text/plain": [
       "['nytimes',\n",
       " 'TelegraphNews',\n",
       " 'GuardianNews',\n",
       " 'Newsweek',\n",
       " 'BBCAfrica',\n",
       " 'Independent',\n",
       " 'FRANCE24',\n",
       " 'CNBC',\n",
       " 'politico',\n",
       " 'SkyNewsBreak',\n",
       " 'AJENews',\n",
       " 'FT',\n",
       " 'BreakingNew',\n",
       " 'SkyNews',\n",
       " 'NDTVFeed',\n",
       " 'guardian',\n",
       " 'HuffPost',\n",
       " 'XHNews',\n",
       " 'AP',\n",
       " 'ABC']"
      ]
     },
     "execution_count": 517,
     "metadata": {},
     "output_type": "execute_result"
    }
   ],
   "source": [
    "media_list_names =[]\n",
    "for string in media_list:\n",
    "    media_list_names.append(string[1:])\n",
    "media_list_names "
   ]
  },
  {
   "cell_type": "code",
   "execution_count": 518,
   "id": "60211cca",
   "metadata": {},
   "outputs": [
    {
     "name": "stdout",
     "output_type": "stream",
     "text": [
      "There are 0.0% of direct tweets from the media list\n"
     ]
    }
   ],
   "source": [
    "# select tweet if names are in list \n",
    "\n",
    "not_retweet = df[df['retweeted_status'].isna()]\n",
    "\n",
    "in_medias = not_retweet[not_retweet['username'].isin(media_list_names)]\n",
    "per_medias = len(in_medias)/len(not_retweet)\n",
    "print(f'There are {per_medias}% of direct tweets from the media list')"
   ]
  },
  {
   "cell_type": "code",
   "execution_count": 519,
   "id": "23db31cc",
   "metadata": {},
   "outputs": [
    {
     "name": "stdout",
     "output_type": "stream",
     "text": [
      "There are 0.0% of direct tweets from the ngo list\n"
     ]
    }
   ],
   "source": [
    "#cleaning ngo list\n",
    "ngo_list_names =[]\n",
    "for string in ngo_list:\n",
    "    ngo_list_names.append(string[1:])\n",
    "ngo_list_names \n",
    "\n",
    "# select tweet if names are in list \n",
    "in_ngos = not_retweet[not_retweet['username'].isin(ngo_list_names)]\n",
    "per_ngos = len(in_ngos)/len(not_retweet)\n",
    "print(f'There are {per_ngos}% of direct tweets from the ngo list')"
   ]
  },
  {
   "cell_type": "code",
   "execution_count": 520,
   "id": "7fce7487",
   "metadata": {},
   "outputs": [
    {
     "name": "stdout",
     "output_type": "stream",
     "text": [
      "There are 0.0% of retweets from the media list\n"
     ]
    }
   ],
   "source": [
    "#Percentage of tweets generated by all the 20 media accounts that appear as retweets in the sample.\n",
    "retweet = df[df['retweeted_status'].isna() == False]\n",
    "\n",
    "in_medias = retweet[retweet['username'].isin(media_list_names)]\n",
    "per_medias = len(in_medias)/len(retweet)\n",
    "print(f'There are {per_medias}% of retweets from the media list')\n"
   ]
  },
  {
   "cell_type": "code",
   "execution_count": 521,
   "id": "6d106ea7",
   "metadata": {},
   "outputs": [
    {
     "name": "stdout",
     "output_type": "stream",
     "text": [
      "There are 0.0% of retweets from the ngo list\n"
     ]
    }
   ],
   "source": [
    "# select tweet if names are in list \n",
    "in_ngos = retweet[retweet['username'].isin(ngo_list_names)]\n",
    "per_ngos = len(in_ngos)/len(retweet)\n",
    "print(f'There are {per_ngos}% of retweets from the ngo list')"
   ]
  },
  {
   "cell_type": "markdown",
   "id": "fdae4dd7",
   "metadata": {},
   "source": [
    "## 6. Discussion"
   ]
  },
  {
   "cell_type": "markdown",
   "id": "93ddbb9b",
   "metadata": {},
   "source": [
    "Point 4:  \n",
    "The resuts are coherent with my initial hypothesis,namely that it would be mostly an english corpus. I was slightly surprised by the importance of retweet as I am not a user of twitter but it makes sense with respect to what we have learn in class.  \n",
    "\n",
    "Point 5: \n",
    "Well I am wondering it there is an error in my code, as none of the tweets are coming or are retweeted by the media and NGO I've selectionned. However some sample are really small, for example the non retweeted samples are 2724 tweets, as there are  400 million users it then makes sense that only 20 handles are not even represented in the dataset. It is slightly more suprising for the larger datset of 12'276 tweets."
   ]
  },
  {
   "cell_type": "code",
   "execution_count": 524,
   "id": "ad783788",
   "metadata": {},
   "outputs": [
    {
     "data": {
      "text/plain": [
       "2724"
      ]
     },
     "execution_count": 524,
     "metadata": {},
     "output_type": "execute_result"
    }
   ],
   "source": [
    "len(not_retweet)"
   ]
  },
  {
   "cell_type": "code",
   "execution_count": 526,
   "id": "7a2e53db",
   "metadata": {},
   "outputs": [
    {
     "data": {
      "text/plain": [
       "12276"
      ]
     },
     "execution_count": 526,
     "metadata": {},
     "output_type": "execute_result"
    }
   ],
   "source": [
    "len(retweet)"
   ]
  },
  {
   "cell_type": "code",
   "execution_count": null,
   "id": "c9f26737",
   "metadata": {},
   "outputs": [],
   "source": []
  }
 ],
 "metadata": {
  "kernelspec": {
   "display_name": "Python 3 (ipykernel)",
   "language": "python",
   "name": "python3"
  },
  "language_info": {
   "codemirror_mode": {
    "name": "ipython",
    "version": 3
   },
   "file_extension": ".py",
   "mimetype": "text/x-python",
   "name": "python",
   "nbconvert_exporter": "python",
   "pygments_lexer": "ipython3",
   "version": "3.8.11"
  }
 },
 "nbformat": 4,
 "nbformat_minor": 5
}
